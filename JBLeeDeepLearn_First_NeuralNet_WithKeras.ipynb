{
  "nbformat": 4,
  "nbformat_minor": 0,
  "metadata": {
    "colab": {
      "name": "JBLeeDeepLearn_First_NeuralNet_WithKeras.ipynb",
      "provenance": [],
      "toc_visible": true,
      "include_colab_link": true
    },
    "kernelspec": {
      "name": "python3",
      "display_name": "Python 3"
    }
  },
  "cells": [
    {
      "cell_type": "markdown",
      "metadata": {
        "id": "view-in-github",
        "colab_type": "text"
      },
      "source": [
        "<a href=\"https://colab.research.google.com/github/athiagarajan/JBLeeFiles/blob/master/JBLeeDeepLearn_First_NeuralNet_WithKeras.ipynb\" target=\"_parent\"><img src=\"https://colab.research.google.com/assets/colab-badge.svg\" alt=\"Open In Colab\"/></a>"
      ]
    },
    {
      "cell_type": "markdown",
      "metadata": {
        "id": "RtmMhqfsL9Bw"
      },
      "source": [
        "# **First Neural Network With Keras**"
      ]
    },
    {
      "cell_type": "code",
      "metadata": {
        "id": "74XwKafVMDeU"
      },
      "source": [
        "# Create your first MLP in Keras\n",
        "from keras.models import Sequential\n",
        "from keras.layers import Dense\n",
        "import numpy\n",
        "# fix random seed for reproducibility\n",
        "seed = 7\n",
        "numpy.random.seed(seed)\n",
        "# load pima indians dataset\n",
        "dataset = numpy.loadtxt(\"pima-indians-diabetes.csv\", delimiter=\",\")\n",
        "# split into input (X) and output (Y) variables\n",
        "X = dataset[:,0:8]\n",
        "Y = dataset[:,8]\n",
        "# create model\n",
        "model = Sequential()\n",
        "model.add(Dense(12, input_dim=8, kernel_initializer='uniform' , activation= 'relu' ))\n",
        "model.add(Dense(8, kernel_initializer='uniform' , activation= 'relu' ))\n",
        "model.add(Dense(1, kernel_initializer='uniform' , activation= 'sigmoid' ))\n",
        "# Compile model\n",
        "model.compile(loss= 'binary_crossentropy' , optimizer= 'adam' , metrics=[ 'accuracy' ])\n",
        "# Fit the model\n",
        "model.fit(X, Y, epochs=150, batch_size=10)\n",
        "# evaluate the model\n",
        "scores = model.evaluate(X, Y)\n",
        "print(\"%s: %.2f%%\" % (model.metrics_names[1], scores[1]*100))"
      ],
      "execution_count": null,
      "outputs": []
    },
    {
      "cell_type": "markdown",
      "metadata": {
        "id": "JOht0CaHPl3U"
      },
      "source": [
        "# **Evaluating Performance of Deep Learning**"
      ]
    },
    {
      "cell_type": "code",
      "metadata": {
        "id": "o65_qHYVPtXG"
      },
      "source": [
        "# Create your first MLP in Keras\n",
        "from keras.models import Sequential\n",
        "from keras.layers import Dense\n",
        "import numpy\n",
        "# fix random seed for reproducibility\n",
        "seed = 7\n",
        "numpy.random.seed(seed)\n",
        "# load pima indians dataset\n",
        "dataset = numpy.loadtxt(\"pima-indians-diabetes.csv\", delimiter=\",\")\n",
        "# split into input (X) and output (Y) variables\n",
        "X = dataset[:,0:8]\n",
        "Y = dataset[:,8]\n",
        "# create model\n",
        "model = Sequential()\n",
        "model.add(Dense(12, input_dim=8, kernel_initializer='uniform' , activation= 'relu' ))\n",
        "model.add(Dense(8, kernel_initializer='uniform' , activation= 'relu' ))\n",
        "model.add(Dense(1, kernel_initializer='uniform' , activation= 'sigmoid' ))\n",
        "# Compile model\n",
        "model.compile(loss= 'binary_crossentropy' , optimizer= 'adam' , metrics=[ 'accuracy' ])\n",
        "# Fit the model\n",
        "model.fit(X, Y, validation_split=0.33, epochs=150, batch_size=10)\n",
        "# evaluate the model\n",
        "#scores = model.evaluate(X, Y)\n",
        "#print(\"%s: %.2f%%\" % (model.metrics_names[1], scores[1]*100))"
      ],
      "execution_count": null,
      "outputs": []
    },
    {
      "cell_type": "code",
      "metadata": {
        "id": "rxQiK9OAQR-9"
      },
      "source": [
        "# MLP with manual validation set\n",
        "from keras.models import Sequential\n",
        "from keras.layers import Dense\n",
        "from sklearn.model_selection import train_test_split\n",
        "import numpy\n",
        "# fix random seed for reproducibility\n",
        "seed = 7\n",
        "numpy.random.seed(seed)\n",
        "# load pima indians dataset\n",
        "dataset = numpy.loadtxt(\"pima-indians-diabetes.csv\", delimiter=\",\")\n",
        "# split into input (X) and output (Y) variables\n",
        "X = dataset[:,0:8]\n",
        "Y = dataset[:,8]\n",
        "# split into 67% for train and 33% for test\n",
        "X_train, X_test, y_train, y_test = train_test_split(X, Y, test_size=0.33, random_state=seed)\n",
        "# create model\n",
        "model = Sequential()\n",
        "model.add(Dense(12, input_dim=8, kernel_initializer='uniform' , activation= 'relu' ))\n",
        "model.add(Dense(8, kernel_initializer='uniform' , activation= 'relu' ))\n",
        "model.add(Dense(1, kernel_initializer='uniform' , activation= 'sigmoid' ))\n",
        "# Compile model\n",
        "model.compile(loss= 'binary_crossentropy' , optimizer= 'adam' , metrics=[ 'accuracy' ])\n",
        "# Fit the model\n",
        "model.fit(X_train, y_train, validation_data=(X_test,y_test), epochs=150, batch_size=10)\n",
        "# evaluate the model\n",
        "scores = model.evaluate(X, Y)\n",
        "print(\"%s: %.2f%%\" % (model.metrics_names[1], scores[1]*100))"
      ],
      "execution_count": null,
      "outputs": []
    },
    {
      "cell_type": "code",
      "metadata": {
        "id": "pcWMVmtsRI5J"
      },
      "source": [
        "# MLP for Pima Indians Dataset with 10-fold cross validation\n",
        "from keras.models import Sequential\n",
        "from keras.layers import Dense\n",
        "from sklearn.model_selection import StratifiedKFold\n",
        "import numpy\n",
        "# fix random seed for reproducibility\n",
        "seed = 7\n",
        "numpy.random.seed(seed)\n",
        "# load pima indians dataset\n",
        "dataset = numpy.loadtxt(\"pima-indians-diabetes.csv\", delimiter=\",\")\n",
        "# split into input (X) and output (Y) variables\n",
        "X = dataset[:,0:8]\n",
        "Y = dataset[:,8]\n",
        "# define 10-fold cross validation test harness\n",
        "kfold = StratifiedKFold(n_splits=10, shuffle=True, random_state=seed)\n",
        "cvscores = []\n",
        "for train, test in kfold.split(X, Y):\n",
        "  # create model\n",
        "  model = Sequential()\n",
        "  model.add(Dense(12, input_dim=8, kernel_initializer='uniform' , activation= 'relu' ))\n",
        "  model.add(Dense(8, kernel_initializer='uniform' , activation= 'relu' ))\n",
        "  model.add(Dense(1, kernel_initializer='uniform' , activation= 'sigmoid' ))\n",
        "  # Compile model\n",
        "  model.compile(loss= 'binary_crossentropy' , optimizer= 'adam' , metrics=[ 'accuracy' ])\n",
        "  # Fit the model\n",
        "  model.fit(X[train], Y[train], epochs=150, batch_size=10, verbose=0)\n",
        "  # evaluate the model\n",
        "  scores = model.evaluate(X[test], Y[test], verbose=0)\n",
        "  print(\"%s: %.2f%%\" % (model.metrics_names[1], scores[1]*100))\n",
        "  cvscores.append(scores[1] * 100)\n",
        "print(\"%.2f%% (+/- %.2f%%)\" % (numpy.mean(cvscores), numpy.std(cvscores)))"
      ],
      "execution_count": null,
      "outputs": []
    },
    {
      "cell_type": "markdown",
      "metadata": {
        "id": "KO8xI3dIbLDS"
      },
      "source": [
        "#**Keras Models With Scikit-Learn For General Machine Learning**"
      ]
    },
    {
      "cell_type": "code",
      "metadata": {
        "id": "t_3B4YJCb3bS",
        "colab": {
          "base_uri": "https://localhost:8080/"
        },
        "outputId": "6ec382a6-2bd0-4e8d-b9fa-696e08627028"
      },
      "source": [
        "# MLP for Pima Indians Dataset with 10-fold cross validation via sklearn\n",
        "from keras.models import Sequential\n",
        "from keras.layers import Dense\n",
        "from keras.wrappers.scikit_learn import KerasClassifier\n",
        "from sklearn.model_selection import StratifiedKFold\n",
        "from sklearn.model_selection import cross_val_score\n",
        "import numpy\n",
        "# Function to create model, required for KerasClassifier\n",
        "def create_model():\n",
        "  # create model\n",
        "  model = Sequential()\n",
        "  model.add(Dense(12, input_dim=8, kernel_initializer= 'uniform' , activation= 'relu' ))\n",
        "  model.add(Dense(8, kernel_initializer= 'uniform' , activation= 'relu' ))\n",
        "  model.add(Dense(1, kernel_initializer= 'uniform' , activation= 'sigmoid' ))\n",
        "  # Compile model\n",
        "  model.compile(loss= 'binary_crossentropy' , optimizer= 'adam' , metrics=[ 'accuracy' ])\n",
        "  return model\n",
        "# fix random seed for reproducibility\n",
        "seed = 7\n",
        "numpy.random.seed(seed)\n",
        "# load pima indians dataset\n",
        "dataset = numpy.loadtxt(\"pima-indians-diabetes.csv\", delimiter=\",\")\n",
        "# split into input (X) and output (Y) variables\n",
        "X = dataset[:,0:8]\n",
        "Y = dataset[:,8]\n",
        "# create model\n",
        "model = KerasClassifier(build_fn=create_model, nb_epoch=150, batch_size=10, verbose=0)\n",
        "# evaluate using 10-fold cross validation\n",
        "kfold = StratifiedKFold(n_splits=10, shuffle=True, random_state=seed)\n",
        "results = cross_val_score(model, X, Y, cv=kfold)\n",
        "print(results.mean())"
      ],
      "execution_count": 9,
      "outputs": [
        {
          "output_type": "stream",
          "text": [
            "0.6510594606399536\n"
          ],
          "name": "stdout"
        }
      ]
    },
    {
      "cell_type": "code",
      "metadata": {
        "id": "HtrUea2QNx9M",
        "colab": {
          "base_uri": "https://localhost:8080/"
        },
        "outputId": "4149782c-4b80-4c55-8cba-a50f89ff3ea9"
      },
      "source": [
        "# Use scikit-learn to grid search the batch size and epochs\n",
        "import numpy\n",
        "from sklearn.model_selection import GridSearchCV\n",
        "from keras.models import Sequential\n",
        "from keras.layers import Dense\n",
        "from keras.wrappers.scikit_learn import KerasClassifier\n",
        "# Function to create model, required for KerasClassifier\n",
        "def create_model(optimizer= 'rmsprop' , init= 'glorot_uniform' ):\n",
        "\t# create model\n",
        "\tmodel = Sequential()\n",
        "\tmodel.add(Dense(12, input_dim=8, activation='relu'))\n",
        "\tmodel.add(Dense(1, activation='sigmoid'))\n",
        "\t# Compile model\n",
        "\tmodel.compile(loss='binary_crossentropy', optimizer='adam', metrics=['accuracy'])\n",
        "\treturn model\n",
        "# fix random seed for reproducibility\n",
        "seed = 7\n",
        "numpy.random.seed(seed)\n",
        "# load dataset\n",
        "dataset = numpy.loadtxt(\"pima-indians-diabetes.csv\", delimiter=\",\")\n",
        "# split into input (X) and output (Y) variables\n",
        "X = dataset[:,0:8]\n",
        "Y = dataset[:,8]\n",
        "# create model\n",
        "model = KerasClassifier(build_fn=create_model, verbose=0)\n",
        "# define the grid search parameters\n",
        "batch_size = [10, 20, 40, 60, 80, 100]\n",
        "epochs = [10, 50, 100]\n",
        "init = [ 'glorot_uniform' , 'normal' , 'uniform' ]\n",
        "optimizers = [ 'rmsprop' , 'adam' ]\n",
        "#param_grid = dict(batch_size=batch_size, epochs=epochs)\n",
        "param_grid = dict(optimizer=optimizers, nb_epoch=epochs, batch_size=batch_size, init=init)\n",
        "grid = GridSearchCV(estimator=model, param_grid=param_grid, n_jobs=-1, cv=3)\n",
        "grid_result = grid.fit(X, Y)\n",
        "# summarize results\n",
        "print(\"Best: %f using %s\" % (grid_result.best_score_, grid_result.best_params_))\n",
        "means = grid_result.cv_results_['mean_test_score']\n",
        "stds = grid_result.cv_results_['std_test_score']\n",
        "params = grid_result.cv_results_['params']\n",
        "pdeep = grid_result.get_params([True])\n",
        "for mean, stdev, param in zip(means, stds, params):\n",
        "    print(\"%f (%f) with: %r %r\" % (mean, stdev, param,pdeep))"
      ],
      "execution_count": 16,
      "outputs": [
        {
          "output_type": "stream",
          "text": [
            "Best: 0.647135 using {'batch_size': 10, 'init': 'normal', 'nb_epoch': 50, 'optimizer': 'adam'}\n",
            "0.466146 (0.046256) with: {'batch_size': 10, 'init': 'glorot_uniform', 'nb_epoch': 10, 'optimizer': 'rmsprop'} {'cv': 3, 'error_score': nan, 'estimator__verbose': 0, 'estimator__build_fn': <function create_model at 0x7f55357ff0d0>, 'estimator': <tensorflow.python.keras.wrappers.scikit_learn.KerasClassifier object at 0x7f553619ef28>, 'iid': 'deprecated', 'n_jobs': -1, 'param_grid': {'optimizer': ['rmsprop', 'adam'], 'nb_epoch': [10, 50, 100], 'batch_size': [10, 20, 40, 60, 80, 100], 'init': ['glorot_uniform', 'normal', 'uniform']}, 'pre_dispatch': '2*n_jobs', 'refit': True, 'return_train_score': False, 'scoring': None, 'verbose': 0}\n",
            "0.539062 (0.089985) with: {'batch_size': 10, 'init': 'glorot_uniform', 'nb_epoch': 10, 'optimizer': 'adam'} {'cv': 3, 'error_score': nan, 'estimator__verbose': 0, 'estimator__build_fn': <function create_model at 0x7f55357ff0d0>, 'estimator': <tensorflow.python.keras.wrappers.scikit_learn.KerasClassifier object at 0x7f553619ef28>, 'iid': 'deprecated', 'n_jobs': -1, 'param_grid': {'optimizer': ['rmsprop', 'adam'], 'nb_epoch': [10, 50, 100], 'batch_size': [10, 20, 40, 60, 80, 100], 'init': ['glorot_uniform', 'normal', 'uniform']}, 'pre_dispatch': '2*n_jobs', 'refit': True, 'return_train_score': False, 'scoring': None, 'verbose': 0}\n",
            "0.445312 (0.066291) with: {'batch_size': 10, 'init': 'glorot_uniform', 'nb_epoch': 50, 'optimizer': 'rmsprop'} {'cv': 3, 'error_score': nan, 'estimator__verbose': 0, 'estimator__build_fn': <function create_model at 0x7f55357ff0d0>, 'estimator': <tensorflow.python.keras.wrappers.scikit_learn.KerasClassifier object at 0x7f553619ef28>, 'iid': 'deprecated', 'n_jobs': -1, 'param_grid': {'optimizer': ['rmsprop', 'adam'], 'nb_epoch': [10, 50, 100], 'batch_size': [10, 20, 40, 60, 80, 100], 'init': ['glorot_uniform', 'normal', 'uniform']}, 'pre_dispatch': '2*n_jobs', 'refit': True, 'return_train_score': False, 'scoring': None, 'verbose': 0}\n",
            "0.449219 (0.088790) with: {'batch_size': 10, 'init': 'glorot_uniform', 'nb_epoch': 50, 'optimizer': 'adam'} {'cv': 3, 'error_score': nan, 'estimator__verbose': 0, 'estimator__build_fn': <function create_model at 0x7f55357ff0d0>, 'estimator': <tensorflow.python.keras.wrappers.scikit_learn.KerasClassifier object at 0x7f553619ef28>, 'iid': 'deprecated', 'n_jobs': -1, 'param_grid': {'optimizer': ['rmsprop', 'adam'], 'nb_epoch': [10, 50, 100], 'batch_size': [10, 20, 40, 60, 80, 100], 'init': ['glorot_uniform', 'normal', 'uniform']}, 'pre_dispatch': '2*n_jobs', 'refit': True, 'return_train_score': False, 'scoring': None, 'verbose': 0}\n",
            "0.544271 (0.121464) with: {'batch_size': 10, 'init': 'glorot_uniform', 'nb_epoch': 100, 'optimizer': 'rmsprop'} {'cv': 3, 'error_score': nan, 'estimator__verbose': 0, 'estimator__build_fn': <function create_model at 0x7f55357ff0d0>, 'estimator': <tensorflow.python.keras.wrappers.scikit_learn.KerasClassifier object at 0x7f553619ef28>, 'iid': 'deprecated', 'n_jobs': -1, 'param_grid': {'optimizer': ['rmsprop', 'adam'], 'nb_epoch': [10, 50, 100], 'batch_size': [10, 20, 40, 60, 80, 100], 'init': ['glorot_uniform', 'normal', 'uniform']}, 'pre_dispatch': '2*n_jobs', 'refit': True, 'return_train_score': False, 'scoring': None, 'verbose': 0}\n",
            "0.498698 (0.015073) with: {'batch_size': 10, 'init': 'glorot_uniform', 'nb_epoch': 100, 'optimizer': 'adam'} {'cv': 3, 'error_score': nan, 'estimator__verbose': 0, 'estimator__build_fn': <function create_model at 0x7f55357ff0d0>, 'estimator': <tensorflow.python.keras.wrappers.scikit_learn.KerasClassifier object at 0x7f553619ef28>, 'iid': 'deprecated', 'n_jobs': -1, 'param_grid': {'optimizer': ['rmsprop', 'adam'], 'nb_epoch': [10, 50, 100], 'batch_size': [10, 20, 40, 60, 80, 100], 'init': ['glorot_uniform', 'normal', 'uniform']}, 'pre_dispatch': '2*n_jobs', 'refit': True, 'return_train_score': False, 'scoring': None, 'verbose': 0}\n",
            "0.559896 (0.123293) with: {'batch_size': 10, 'init': 'normal', 'nb_epoch': 10, 'optimizer': 'rmsprop'} {'cv': 3, 'error_score': nan, 'estimator__verbose': 0, 'estimator__build_fn': <function create_model at 0x7f55357ff0d0>, 'estimator': <tensorflow.python.keras.wrappers.scikit_learn.KerasClassifier object at 0x7f553619ef28>, 'iid': 'deprecated', 'n_jobs': -1, 'param_grid': {'optimizer': ['rmsprop', 'adam'], 'nb_epoch': [10, 50, 100], 'batch_size': [10, 20, 40, 60, 80, 100], 'init': ['glorot_uniform', 'normal', 'uniform']}, 'pre_dispatch': '2*n_jobs', 'refit': True, 'return_train_score': False, 'scoring': None, 'verbose': 0}\n",
            "0.520833 (0.054532) with: {'batch_size': 10, 'init': 'normal', 'nb_epoch': 10, 'optimizer': 'adam'} {'cv': 3, 'error_score': nan, 'estimator__verbose': 0, 'estimator__build_fn': <function create_model at 0x7f55357ff0d0>, 'estimator': <tensorflow.python.keras.wrappers.scikit_learn.KerasClassifier object at 0x7f553619ef28>, 'iid': 'deprecated', 'n_jobs': -1, 'param_grid': {'optimizer': ['rmsprop', 'adam'], 'nb_epoch': [10, 50, 100], 'batch_size': [10, 20, 40, 60, 80, 100], 'init': ['glorot_uniform', 'normal', 'uniform']}, 'pre_dispatch': '2*n_jobs', 'refit': True, 'return_train_score': False, 'scoring': None, 'verbose': 0}\n",
            "0.511719 (0.066978) with: {'batch_size': 10, 'init': 'normal', 'nb_epoch': 50, 'optimizer': 'rmsprop'} {'cv': 3, 'error_score': nan, 'estimator__verbose': 0, 'estimator__build_fn': <function create_model at 0x7f55357ff0d0>, 'estimator': <tensorflow.python.keras.wrappers.scikit_learn.KerasClassifier object at 0x7f553619ef28>, 'iid': 'deprecated', 'n_jobs': -1, 'param_grid': {'optimizer': ['rmsprop', 'adam'], 'nb_epoch': [10, 50, 100], 'batch_size': [10, 20, 40, 60, 80, 100], 'init': ['glorot_uniform', 'normal', 'uniform']}, 'pre_dispatch': '2*n_jobs', 'refit': True, 'return_train_score': False, 'scoring': None, 'verbose': 0}\n",
            "0.647135 (0.030145) with: {'batch_size': 10, 'init': 'normal', 'nb_epoch': 50, 'optimizer': 'adam'} {'cv': 3, 'error_score': nan, 'estimator__verbose': 0, 'estimator__build_fn': <function create_model at 0x7f55357ff0d0>, 'estimator': <tensorflow.python.keras.wrappers.scikit_learn.KerasClassifier object at 0x7f553619ef28>, 'iid': 'deprecated', 'n_jobs': -1, 'param_grid': {'optimizer': ['rmsprop', 'adam'], 'nb_epoch': [10, 50, 100], 'batch_size': [10, 20, 40, 60, 80, 100], 'init': ['glorot_uniform', 'normal', 'uniform']}, 'pre_dispatch': '2*n_jobs', 'refit': True, 'return_train_score': False, 'scoring': None, 'verbose': 0}\n",
            "0.588542 (0.066470) with: {'batch_size': 10, 'init': 'normal', 'nb_epoch': 100, 'optimizer': 'rmsprop'} {'cv': 3, 'error_score': nan, 'estimator__verbose': 0, 'estimator__build_fn': <function create_model at 0x7f55357ff0d0>, 'estimator': <tensorflow.python.keras.wrappers.scikit_learn.KerasClassifier object at 0x7f553619ef28>, 'iid': 'deprecated', 'n_jobs': -1, 'param_grid': {'optimizer': ['rmsprop', 'adam'], 'nb_epoch': [10, 50, 100], 'batch_size': [10, 20, 40, 60, 80, 100], 'init': ['glorot_uniform', 'normal', 'uniform']}, 'pre_dispatch': '2*n_jobs', 'refit': True, 'return_train_score': False, 'scoring': None, 'verbose': 0}\n",
            "0.446615 (0.075633) with: {'batch_size': 10, 'init': 'normal', 'nb_epoch': 100, 'optimizer': 'adam'} {'cv': 3, 'error_score': nan, 'estimator__verbose': 0, 'estimator__build_fn': <function create_model at 0x7f55357ff0d0>, 'estimator': <tensorflow.python.keras.wrappers.scikit_learn.KerasClassifier object at 0x7f553619ef28>, 'iid': 'deprecated', 'n_jobs': -1, 'param_grid': {'optimizer': ['rmsprop', 'adam'], 'nb_epoch': [10, 50, 100], 'batch_size': [10, 20, 40, 60, 80, 100], 'init': ['glorot_uniform', 'normal', 'uniform']}, 'pre_dispatch': '2*n_jobs', 'refit': True, 'return_train_score': False, 'scoring': None, 'verbose': 0}\n",
            "0.539062 (0.091499) with: {'batch_size': 10, 'init': 'uniform', 'nb_epoch': 10, 'optimizer': 'rmsprop'} {'cv': 3, 'error_score': nan, 'estimator__verbose': 0, 'estimator__build_fn': <function create_model at 0x7f55357ff0d0>, 'estimator': <tensorflow.python.keras.wrappers.scikit_learn.KerasClassifier object at 0x7f553619ef28>, 'iid': 'deprecated', 'n_jobs': -1, 'param_grid': {'optimizer': ['rmsprop', 'adam'], 'nb_epoch': [10, 50, 100], 'batch_size': [10, 20, 40, 60, 80, 100], 'init': ['glorot_uniform', 'normal', 'uniform']}, 'pre_dispatch': '2*n_jobs', 'refit': True, 'return_train_score': False, 'scoring': None, 'verbose': 0}\n",
            "0.429688 (0.080118) with: {'batch_size': 10, 'init': 'uniform', 'nb_epoch': 10, 'optimizer': 'adam'} {'cv': 3, 'error_score': nan, 'estimator__verbose': 0, 'estimator__build_fn': <function create_model at 0x7f55357ff0d0>, 'estimator': <tensorflow.python.keras.wrappers.scikit_learn.KerasClassifier object at 0x7f553619ef28>, 'iid': 'deprecated', 'n_jobs': -1, 'param_grid': {'optimizer': ['rmsprop', 'adam'], 'nb_epoch': [10, 50, 100], 'batch_size': [10, 20, 40, 60, 80, 100], 'init': ['glorot_uniform', 'normal', 'uniform']}, 'pre_dispatch': '2*n_jobs', 'refit': True, 'return_train_score': False, 'scoring': None, 'verbose': 0}\n",
            "0.531250 (0.095257) with: {'batch_size': 10, 'init': 'uniform', 'nb_epoch': 50, 'optimizer': 'rmsprop'} {'cv': 3, 'error_score': nan, 'estimator__verbose': 0, 'estimator__build_fn': <function create_model at 0x7f55357ff0d0>, 'estimator': <tensorflow.python.keras.wrappers.scikit_learn.KerasClassifier object at 0x7f553619ef28>, 'iid': 'deprecated', 'n_jobs': -1, 'param_grid': {'optimizer': ['rmsprop', 'adam'], 'nb_epoch': [10, 50, 100], 'batch_size': [10, 20, 40, 60, 80, 100], 'init': ['glorot_uniform', 'normal', 'uniform']}, 'pre_dispatch': '2*n_jobs', 'refit': True, 'return_train_score': False, 'scoring': None, 'verbose': 0}\n",
            "0.485677 (0.113677) with: {'batch_size': 10, 'init': 'uniform', 'nb_epoch': 50, 'optimizer': 'adam'} {'cv': 3, 'error_score': nan, 'estimator__verbose': 0, 'estimator__build_fn': <function create_model at 0x7f55357ff0d0>, 'estimator': <tensorflow.python.keras.wrappers.scikit_learn.KerasClassifier object at 0x7f553619ef28>, 'iid': 'deprecated', 'n_jobs': -1, 'param_grid': {'optimizer': ['rmsprop', 'adam'], 'nb_epoch': [10, 50, 100], 'batch_size': [10, 20, 40, 60, 80, 100], 'init': ['glorot_uniform', 'normal', 'uniform']}, 'pre_dispatch': '2*n_jobs', 'refit': True, 'return_train_score': False, 'scoring': None, 'verbose': 0}\n",
            "0.380208 (0.035132) with: {'batch_size': 10, 'init': 'uniform', 'nb_epoch': 100, 'optimizer': 'rmsprop'} {'cv': 3, 'error_score': nan, 'estimator__verbose': 0, 'estimator__build_fn': <function create_model at 0x7f55357ff0d0>, 'estimator': <tensorflow.python.keras.wrappers.scikit_learn.KerasClassifier object at 0x7f553619ef28>, 'iid': 'deprecated', 'n_jobs': -1, 'param_grid': {'optimizer': ['rmsprop', 'adam'], 'nb_epoch': [10, 50, 100], 'batch_size': [10, 20, 40, 60, 80, 100], 'init': ['glorot_uniform', 'normal', 'uniform']}, 'pre_dispatch': '2*n_jobs', 'refit': True, 'return_train_score': False, 'scoring': None, 'verbose': 0}\n",
            "0.513021 (0.090904) with: {'batch_size': 10, 'init': 'uniform', 'nb_epoch': 100, 'optimizer': 'adam'} {'cv': 3, 'error_score': nan, 'estimator__verbose': 0, 'estimator__build_fn': <function create_model at 0x7f55357ff0d0>, 'estimator': <tensorflow.python.keras.wrappers.scikit_learn.KerasClassifier object at 0x7f553619ef28>, 'iid': 'deprecated', 'n_jobs': -1, 'param_grid': {'optimizer': ['rmsprop', 'adam'], 'nb_epoch': [10, 50, 100], 'batch_size': [10, 20, 40, 60, 80, 100], 'init': ['glorot_uniform', 'normal', 'uniform']}, 'pre_dispatch': '2*n_jobs', 'refit': True, 'return_train_score': False, 'scoring': None, 'verbose': 0}\n",
            "0.561198 (0.120582) with: {'batch_size': 20, 'init': 'glorot_uniform', 'nb_epoch': 10, 'optimizer': 'rmsprop'} {'cv': 3, 'error_score': nan, 'estimator__verbose': 0, 'estimator__build_fn': <function create_model at 0x7f55357ff0d0>, 'estimator': <tensorflow.python.keras.wrappers.scikit_learn.KerasClassifier object at 0x7f553619ef28>, 'iid': 'deprecated', 'n_jobs': -1, 'param_grid': {'optimizer': ['rmsprop', 'adam'], 'nb_epoch': [10, 50, 100], 'batch_size': [10, 20, 40, 60, 80, 100], 'init': ['glorot_uniform', 'normal', 'uniform']}, 'pre_dispatch': '2*n_jobs', 'refit': True, 'return_train_score': False, 'scoring': None, 'verbose': 0}\n",
            "0.522135 (0.139548) with: {'batch_size': 20, 'init': 'glorot_uniform', 'nb_epoch': 10, 'optimizer': 'adam'} {'cv': 3, 'error_score': nan, 'estimator__verbose': 0, 'estimator__build_fn': <function create_model at 0x7f55357ff0d0>, 'estimator': <tensorflow.python.keras.wrappers.scikit_learn.KerasClassifier object at 0x7f553619ef28>, 'iid': 'deprecated', 'n_jobs': -1, 'param_grid': {'optimizer': ['rmsprop', 'adam'], 'nb_epoch': [10, 50, 100], 'batch_size': [10, 20, 40, 60, 80, 100], 'init': ['glorot_uniform', 'normal', 'uniform']}, 'pre_dispatch': '2*n_jobs', 'refit': True, 'return_train_score': False, 'scoring': None, 'verbose': 0}\n",
            "0.558594 (0.082000) with: {'batch_size': 20, 'init': 'glorot_uniform', 'nb_epoch': 50, 'optimizer': 'rmsprop'} {'cv': 3, 'error_score': nan, 'estimator__verbose': 0, 'estimator__build_fn': <function create_model at 0x7f55357ff0d0>, 'estimator': <tensorflow.python.keras.wrappers.scikit_learn.KerasClassifier object at 0x7f553619ef28>, 'iid': 'deprecated', 'n_jobs': -1, 'param_grid': {'optimizer': ['rmsprop', 'adam'], 'nb_epoch': [10, 50, 100], 'batch_size': [10, 20, 40, 60, 80, 100], 'init': ['glorot_uniform', 'normal', 'uniform']}, 'pre_dispatch': '2*n_jobs', 'refit': True, 'return_train_score': False, 'scoring': None, 'verbose': 0}\n",
            "0.572917 (0.119947) with: {'batch_size': 20, 'init': 'glorot_uniform', 'nb_epoch': 50, 'optimizer': 'adam'} {'cv': 3, 'error_score': nan, 'estimator__verbose': 0, 'estimator__build_fn': <function create_model at 0x7f55357ff0d0>, 'estimator': <tensorflow.python.keras.wrappers.scikit_learn.KerasClassifier object at 0x7f553619ef28>, 'iid': 'deprecated', 'n_jobs': -1, 'param_grid': {'optimizer': ['rmsprop', 'adam'], 'nb_epoch': [10, 50, 100], 'batch_size': [10, 20, 40, 60, 80, 100], 'init': ['glorot_uniform', 'normal', 'uniform']}, 'pre_dispatch': '2*n_jobs', 'refit': True, 'return_train_score': False, 'scoring': None, 'verbose': 0}\n",
            "0.446615 (0.122382) with: {'batch_size': 20, 'init': 'glorot_uniform', 'nb_epoch': 100, 'optimizer': 'rmsprop'} {'cv': 3, 'error_score': nan, 'estimator__verbose': 0, 'estimator__build_fn': <function create_model at 0x7f55357ff0d0>, 'estimator': <tensorflow.python.keras.wrappers.scikit_learn.KerasClassifier object at 0x7f553619ef28>, 'iid': 'deprecated', 'n_jobs': -1, 'param_grid': {'optimizer': ['rmsprop', 'adam'], 'nb_epoch': [10, 50, 100], 'batch_size': [10, 20, 40, 60, 80, 100], 'init': ['glorot_uniform', 'normal', 'uniform']}, 'pre_dispatch': '2*n_jobs', 'refit': True, 'return_train_score': False, 'scoring': None, 'verbose': 0}\n",
            "0.500000 (0.114153) with: {'batch_size': 20, 'init': 'glorot_uniform', 'nb_epoch': 100, 'optimizer': 'adam'} {'cv': 3, 'error_score': nan, 'estimator__verbose': 0, 'estimator__build_fn': <function create_model at 0x7f55357ff0d0>, 'estimator': <tensorflow.python.keras.wrappers.scikit_learn.KerasClassifier object at 0x7f553619ef28>, 'iid': 'deprecated', 'n_jobs': -1, 'param_grid': {'optimizer': ['rmsprop', 'adam'], 'nb_epoch': [10, 50, 100], 'batch_size': [10, 20, 40, 60, 80, 100], 'init': ['glorot_uniform', 'normal', 'uniform']}, 'pre_dispatch': '2*n_jobs', 'refit': True, 'return_train_score': False, 'scoring': None, 'verbose': 0}\n",
            "0.460938 (0.099641) with: {'batch_size': 20, 'init': 'normal', 'nb_epoch': 10, 'optimizer': 'rmsprop'} {'cv': 3, 'error_score': nan, 'estimator__verbose': 0, 'estimator__build_fn': <function create_model at 0x7f55357ff0d0>, 'estimator': <tensorflow.python.keras.wrappers.scikit_learn.KerasClassifier object at 0x7f553619ef28>, 'iid': 'deprecated', 'n_jobs': -1, 'param_grid': {'optimizer': ['rmsprop', 'adam'], 'nb_epoch': [10, 50, 100], 'batch_size': [10, 20, 40, 60, 80, 100], 'init': ['glorot_uniform', 'normal', 'uniform']}, 'pre_dispatch': '2*n_jobs', 'refit': True, 'return_train_score': False, 'scoring': None, 'verbose': 0}\n",
            "0.559896 (0.074481) with: {'batch_size': 20, 'init': 'normal', 'nb_epoch': 10, 'optimizer': 'adam'} {'cv': 3, 'error_score': nan, 'estimator__verbose': 0, 'estimator__build_fn': <function create_model at 0x7f55357ff0d0>, 'estimator': <tensorflow.python.keras.wrappers.scikit_learn.KerasClassifier object at 0x7f553619ef28>, 'iid': 'deprecated', 'n_jobs': -1, 'param_grid': {'optimizer': ['rmsprop', 'adam'], 'nb_epoch': [10, 50, 100], 'batch_size': [10, 20, 40, 60, 80, 100], 'init': ['glorot_uniform', 'normal', 'uniform']}, 'pre_dispatch': '2*n_jobs', 'refit': True, 'return_train_score': False, 'scoring': None, 'verbose': 0}\n",
            "0.600260 (0.063895) with: {'batch_size': 20, 'init': 'normal', 'nb_epoch': 50, 'optimizer': 'rmsprop'} {'cv': 3, 'error_score': nan, 'estimator__verbose': 0, 'estimator__build_fn': <function create_model at 0x7f55357ff0d0>, 'estimator': <tensorflow.python.keras.wrappers.scikit_learn.KerasClassifier object at 0x7f553619ef28>, 'iid': 'deprecated', 'n_jobs': -1, 'param_grid': {'optimizer': ['rmsprop', 'adam'], 'nb_epoch': [10, 50, 100], 'batch_size': [10, 20, 40, 60, 80, 100], 'init': ['glorot_uniform', 'normal', 'uniform']}, 'pre_dispatch': '2*n_jobs', 'refit': True, 'return_train_score': False, 'scoring': None, 'verbose': 0}\n",
            "0.430990 (0.135028) with: {'batch_size': 20, 'init': 'normal', 'nb_epoch': 50, 'optimizer': 'adam'} {'cv': 3, 'error_score': nan, 'estimator__verbose': 0, 'estimator__build_fn': <function create_model at 0x7f55357ff0d0>, 'estimator': <tensorflow.python.keras.wrappers.scikit_learn.KerasClassifier object at 0x7f553619ef28>, 'iid': 'deprecated', 'n_jobs': -1, 'param_grid': {'optimizer': ['rmsprop', 'adam'], 'nb_epoch': [10, 50, 100], 'batch_size': [10, 20, 40, 60, 80, 100], 'init': ['glorot_uniform', 'normal', 'uniform']}, 'pre_dispatch': '2*n_jobs', 'refit': True, 'return_train_score': False, 'scoring': None, 'verbose': 0}\n",
            "0.532552 (0.078407) with: {'batch_size': 20, 'init': 'normal', 'nb_epoch': 100, 'optimizer': 'rmsprop'} {'cv': 3, 'error_score': nan, 'estimator__verbose': 0, 'estimator__build_fn': <function create_model at 0x7f55357ff0d0>, 'estimator': <tensorflow.python.keras.wrappers.scikit_learn.KerasClassifier object at 0x7f553619ef28>, 'iid': 'deprecated', 'n_jobs': -1, 'param_grid': {'optimizer': ['rmsprop', 'adam'], 'nb_epoch': [10, 50, 100], 'batch_size': [10, 20, 40, 60, 80, 100], 'init': ['glorot_uniform', 'normal', 'uniform']}, 'pre_dispatch': '2*n_jobs', 'refit': True, 'return_train_score': False, 'scoring': None, 'verbose': 0}\n",
            "0.613281 (0.049513) with: {'batch_size': 20, 'init': 'normal', 'nb_epoch': 100, 'optimizer': 'adam'} {'cv': 3, 'error_score': nan, 'estimator__verbose': 0, 'estimator__build_fn': <function create_model at 0x7f55357ff0d0>, 'estimator': <tensorflow.python.keras.wrappers.scikit_learn.KerasClassifier object at 0x7f553619ef28>, 'iid': 'deprecated', 'n_jobs': -1, 'param_grid': {'optimizer': ['rmsprop', 'adam'], 'nb_epoch': [10, 50, 100], 'batch_size': [10, 20, 40, 60, 80, 100], 'init': ['glorot_uniform', 'normal', 'uniform']}, 'pre_dispatch': '2*n_jobs', 'refit': True, 'return_train_score': False, 'scoring': None, 'verbose': 0}\n",
            "0.402344 (0.066978) with: {'batch_size': 20, 'init': 'uniform', 'nb_epoch': 10, 'optimizer': 'rmsprop'} {'cv': 3, 'error_score': nan, 'estimator__verbose': 0, 'estimator__build_fn': <function create_model at 0x7f55357ff0d0>, 'estimator': <tensorflow.python.keras.wrappers.scikit_learn.KerasClassifier object at 0x7f553619ef28>, 'iid': 'deprecated', 'n_jobs': -1, 'param_grid': {'optimizer': ['rmsprop', 'adam'], 'nb_epoch': [10, 50, 100], 'batch_size': [10, 20, 40, 60, 80, 100], 'init': ['glorot_uniform', 'normal', 'uniform']}, 'pre_dispatch': '2*n_jobs', 'refit': True, 'return_train_score': False, 'scoring': None, 'verbose': 0}\n",
            "0.550781 (0.066291) with: {'batch_size': 20, 'init': 'uniform', 'nb_epoch': 10, 'optimizer': 'adam'} {'cv': 3, 'error_score': nan, 'estimator__verbose': 0, 'estimator__build_fn': <function create_model at 0x7f55357ff0d0>, 'estimator': <tensorflow.python.keras.wrappers.scikit_learn.KerasClassifier object at 0x7f553619ef28>, 'iid': 'deprecated', 'n_jobs': -1, 'param_grid': {'optimizer': ['rmsprop', 'adam'], 'nb_epoch': [10, 50, 100], 'batch_size': [10, 20, 40, 60, 80, 100], 'init': ['glorot_uniform', 'normal', 'uniform']}, 'pre_dispatch': '2*n_jobs', 'refit': True, 'return_train_score': False, 'scoring': None, 'verbose': 0}\n",
            "0.386719 (0.036782) with: {'batch_size': 20, 'init': 'uniform', 'nb_epoch': 50, 'optimizer': 'rmsprop'} {'cv': 3, 'error_score': nan, 'estimator__verbose': 0, 'estimator__build_fn': <function create_model at 0x7f55357ff0d0>, 'estimator': <tensorflow.python.keras.wrappers.scikit_learn.KerasClassifier object at 0x7f553619ef28>, 'iid': 'deprecated', 'n_jobs': -1, 'param_grid': {'optimizer': ['rmsprop', 'adam'], 'nb_epoch': [10, 50, 100], 'batch_size': [10, 20, 40, 60, 80, 100], 'init': ['glorot_uniform', 'normal', 'uniform']}, 'pre_dispatch': '2*n_jobs', 'refit': True, 'return_train_score': False, 'scoring': None, 'verbose': 0}\n",
            "0.437500 (0.086821) with: {'batch_size': 20, 'init': 'uniform', 'nb_epoch': 50, 'optimizer': 'adam'} {'cv': 3, 'error_score': nan, 'estimator__verbose': 0, 'estimator__build_fn': <function create_model at 0x7f55357ff0d0>, 'estimator': <tensorflow.python.keras.wrappers.scikit_learn.KerasClassifier object at 0x7f553619ef28>, 'iid': 'deprecated', 'n_jobs': -1, 'param_grid': {'optimizer': ['rmsprop', 'adam'], 'nb_epoch': [10, 50, 100], 'batch_size': [10, 20, 40, 60, 80, 100], 'init': ['glorot_uniform', 'normal', 'uniform']}, 'pre_dispatch': '2*n_jobs', 'refit': True, 'return_train_score': False, 'scoring': None, 'verbose': 0}\n",
            "0.524740 (0.145333) with: {'batch_size': 20, 'init': 'uniform', 'nb_epoch': 100, 'optimizer': 'rmsprop'} {'cv': 3, 'error_score': nan, 'estimator__verbose': 0, 'estimator__build_fn': <function create_model at 0x7f55357ff0d0>, 'estimator': <tensorflow.python.keras.wrappers.scikit_learn.KerasClassifier object at 0x7f553619ef28>, 'iid': 'deprecated', 'n_jobs': -1, 'param_grid': {'optimizer': ['rmsprop', 'adam'], 'nb_epoch': [10, 50, 100], 'batch_size': [10, 20, 40, 60, 80, 100], 'init': ['glorot_uniform', 'normal', 'uniform']}, 'pre_dispatch': '2*n_jobs', 'refit': True, 'return_train_score': False, 'scoring': None, 'verbose': 0}\n",
            "0.520833 (0.118024) with: {'batch_size': 20, 'init': 'uniform', 'nb_epoch': 100, 'optimizer': 'adam'} {'cv': 3, 'error_score': nan, 'estimator__verbose': 0, 'estimator__build_fn': <function create_model at 0x7f55357ff0d0>, 'estimator': <tensorflow.python.keras.wrappers.scikit_learn.KerasClassifier object at 0x7f553619ef28>, 'iid': 'deprecated', 'n_jobs': -1, 'param_grid': {'optimizer': ['rmsprop', 'adam'], 'nb_epoch': [10, 50, 100], 'batch_size': [10, 20, 40, 60, 80, 100], 'init': ['glorot_uniform', 'normal', 'uniform']}, 'pre_dispatch': '2*n_jobs', 'refit': True, 'return_train_score': False, 'scoring': None, 'verbose': 0}\n",
            "0.562500 (0.128491) with: {'batch_size': 40, 'init': 'glorot_uniform', 'nb_epoch': 10, 'optimizer': 'rmsprop'} {'cv': 3, 'error_score': nan, 'estimator__verbose': 0, 'estimator__build_fn': <function create_model at 0x7f55357ff0d0>, 'estimator': <tensorflow.python.keras.wrappers.scikit_learn.KerasClassifier object at 0x7f553619ef28>, 'iid': 'deprecated', 'n_jobs': -1, 'param_grid': {'optimizer': ['rmsprop', 'adam'], 'nb_epoch': [10, 50, 100], 'batch_size': [10, 20, 40, 60, 80, 100], 'init': ['glorot_uniform', 'normal', 'uniform']}, 'pre_dispatch': '2*n_jobs', 'refit': True, 'return_train_score': False, 'scoring': None, 'verbose': 0}\n",
            "0.574219 (0.055335) with: {'batch_size': 40, 'init': 'glorot_uniform', 'nb_epoch': 10, 'optimizer': 'adam'} {'cv': 3, 'error_score': nan, 'estimator__verbose': 0, 'estimator__build_fn': <function create_model at 0x7f55357ff0d0>, 'estimator': <tensorflow.python.keras.wrappers.scikit_learn.KerasClassifier object at 0x7f553619ef28>, 'iid': 'deprecated', 'n_jobs': -1, 'param_grid': {'optimizer': ['rmsprop', 'adam'], 'nb_epoch': [10, 50, 100], 'batch_size': [10, 20, 40, 60, 80, 100], 'init': ['glorot_uniform', 'normal', 'uniform']}, 'pre_dispatch': '2*n_jobs', 'refit': True, 'return_train_score': False, 'scoring': None, 'verbose': 0}\n",
            "0.430990 (0.115629) with: {'batch_size': 40, 'init': 'glorot_uniform', 'nb_epoch': 50, 'optimizer': 'rmsprop'} {'cv': 3, 'error_score': nan, 'estimator__verbose': 0, 'estimator__build_fn': <function create_model at 0x7f55357ff0d0>, 'estimator': <tensorflow.python.keras.wrappers.scikit_learn.KerasClassifier object at 0x7f553619ef28>, 'iid': 'deprecated', 'n_jobs': -1, 'param_grid': {'optimizer': ['rmsprop', 'adam'], 'nb_epoch': [10, 50, 100], 'batch_size': [10, 20, 40, 60, 80, 100], 'init': ['glorot_uniform', 'normal', 'uniform']}, 'pre_dispatch': '2*n_jobs', 'refit': True, 'return_train_score': False, 'scoring': None, 'verbose': 0}\n",
            "0.576823 (0.044002) with: {'batch_size': 40, 'init': 'glorot_uniform', 'nb_epoch': 50, 'optimizer': 'adam'} {'cv': 3, 'error_score': nan, 'estimator__verbose': 0, 'estimator__build_fn': <function create_model at 0x7f55357ff0d0>, 'estimator': <tensorflow.python.keras.wrappers.scikit_learn.KerasClassifier object at 0x7f553619ef28>, 'iid': 'deprecated', 'n_jobs': -1, 'param_grid': {'optimizer': ['rmsprop', 'adam'], 'nb_epoch': [10, 50, 100], 'batch_size': [10, 20, 40, 60, 80, 100], 'init': ['glorot_uniform', 'normal', 'uniform']}, 'pre_dispatch': '2*n_jobs', 'refit': True, 'return_train_score': False, 'scoring': None, 'verbose': 0}\n",
            "0.458333 (0.145263) with: {'batch_size': 40, 'init': 'glorot_uniform', 'nb_epoch': 100, 'optimizer': 'rmsprop'} {'cv': 3, 'error_score': nan, 'estimator__verbose': 0, 'estimator__build_fn': <function create_model at 0x7f55357ff0d0>, 'estimator': <tensorflow.python.keras.wrappers.scikit_learn.KerasClassifier object at 0x7f553619ef28>, 'iid': 'deprecated', 'n_jobs': -1, 'param_grid': {'optimizer': ['rmsprop', 'adam'], 'nb_epoch': [10, 50, 100], 'batch_size': [10, 20, 40, 60, 80, 100], 'init': ['glorot_uniform', 'normal', 'uniform']}, 'pre_dispatch': '2*n_jobs', 'refit': True, 'return_train_score': False, 'scoring': None, 'verbose': 0}\n",
            "0.548177 (0.147865) with: {'batch_size': 40, 'init': 'glorot_uniform', 'nb_epoch': 100, 'optimizer': 'adam'} {'cv': 3, 'error_score': nan, 'estimator__verbose': 0, 'estimator__build_fn': <function create_model at 0x7f55357ff0d0>, 'estimator': <tensorflow.python.keras.wrappers.scikit_learn.KerasClassifier object at 0x7f553619ef28>, 'iid': 'deprecated', 'n_jobs': -1, 'param_grid': {'optimizer': ['rmsprop', 'adam'], 'nb_epoch': [10, 50, 100], 'batch_size': [10, 20, 40, 60, 80, 100], 'init': ['glorot_uniform', 'normal', 'uniform']}, 'pre_dispatch': '2*n_jobs', 'refit': True, 'return_train_score': False, 'scoring': None, 'verbose': 0}\n",
            "0.643229 (0.028764) with: {'batch_size': 40, 'init': 'normal', 'nb_epoch': 10, 'optimizer': 'rmsprop'} {'cv': 3, 'error_score': nan, 'estimator__verbose': 0, 'estimator__build_fn': <function create_model at 0x7f55357ff0d0>, 'estimator': <tensorflow.python.keras.wrappers.scikit_learn.KerasClassifier object at 0x7f553619ef28>, 'iid': 'deprecated', 'n_jobs': -1, 'param_grid': {'optimizer': ['rmsprop', 'adam'], 'nb_epoch': [10, 50, 100], 'batch_size': [10, 20, 40, 60, 80, 100], 'init': ['glorot_uniform', 'normal', 'uniform']}, 'pre_dispatch': '2*n_jobs', 'refit': True, 'return_train_score': False, 'scoring': None, 'verbose': 0}\n",
            "0.588542 (0.088465) with: {'batch_size': 40, 'init': 'normal', 'nb_epoch': 10, 'optimizer': 'adam'} {'cv': 3, 'error_score': nan, 'estimator__verbose': 0, 'estimator__build_fn': <function create_model at 0x7f55357ff0d0>, 'estimator': <tensorflow.python.keras.wrappers.scikit_learn.KerasClassifier object at 0x7f553619ef28>, 'iid': 'deprecated', 'n_jobs': -1, 'param_grid': {'optimizer': ['rmsprop', 'adam'], 'nb_epoch': [10, 50, 100], 'batch_size': [10, 20, 40, 60, 80, 100], 'init': ['glorot_uniform', 'normal', 'uniform']}, 'pre_dispatch': '2*n_jobs', 'refit': True, 'return_train_score': False, 'scoring': None, 'verbose': 0}\n",
            "0.470052 (0.147176) with: {'batch_size': 40, 'init': 'normal', 'nb_epoch': 50, 'optimizer': 'rmsprop'} {'cv': 3, 'error_score': nan, 'estimator__verbose': 0, 'estimator__build_fn': <function create_model at 0x7f55357ff0d0>, 'estimator': <tensorflow.python.keras.wrappers.scikit_learn.KerasClassifier object at 0x7f553619ef28>, 'iid': 'deprecated', 'n_jobs': -1, 'param_grid': {'optimizer': ['rmsprop', 'adam'], 'nb_epoch': [10, 50, 100], 'batch_size': [10, 20, 40, 60, 80, 100], 'init': ['glorot_uniform', 'normal', 'uniform']}, 'pre_dispatch': '2*n_jobs', 'refit': True, 'return_train_score': False, 'scoring': None, 'verbose': 0}\n",
            "0.555990 (0.125420) with: {'batch_size': 40, 'init': 'normal', 'nb_epoch': 50, 'optimizer': 'adam'} {'cv': 3, 'error_score': nan, 'estimator__verbose': 0, 'estimator__build_fn': <function create_model at 0x7f55357ff0d0>, 'estimator': <tensorflow.python.keras.wrappers.scikit_learn.KerasClassifier object at 0x7f553619ef28>, 'iid': 'deprecated', 'n_jobs': -1, 'param_grid': {'optimizer': ['rmsprop', 'adam'], 'nb_epoch': [10, 50, 100], 'batch_size': [10, 20, 40, 60, 80, 100], 'init': ['glorot_uniform', 'normal', 'uniform']}, 'pre_dispatch': '2*n_jobs', 'refit': True, 'return_train_score': False, 'scoring': None, 'verbose': 0}\n",
            "0.496094 (0.077929) with: {'batch_size': 40, 'init': 'normal', 'nb_epoch': 100, 'optimizer': 'rmsprop'} {'cv': 3, 'error_score': nan, 'estimator__verbose': 0, 'estimator__build_fn': <function create_model at 0x7f55357ff0d0>, 'estimator': <tensorflow.python.keras.wrappers.scikit_learn.KerasClassifier object at 0x7f553619ef28>, 'iid': 'deprecated', 'n_jobs': -1, 'param_grid': {'optimizer': ['rmsprop', 'adam'], 'nb_epoch': [10, 50, 100], 'batch_size': [10, 20, 40, 60, 80, 100], 'init': ['glorot_uniform', 'normal', 'uniform']}, 'pre_dispatch': '2*n_jobs', 'refit': True, 'return_train_score': False, 'scoring': None, 'verbose': 0}\n",
            "0.540365 (0.092951) with: {'batch_size': 40, 'init': 'normal', 'nb_epoch': 100, 'optimizer': 'adam'} {'cv': 3, 'error_score': nan, 'estimator__verbose': 0, 'estimator__build_fn': <function create_model at 0x7f55357ff0d0>, 'estimator': <tensorflow.python.keras.wrappers.scikit_learn.KerasClassifier object at 0x7f553619ef28>, 'iid': 'deprecated', 'n_jobs': -1, 'param_grid': {'optimizer': ['rmsprop', 'adam'], 'nb_epoch': [10, 50, 100], 'batch_size': [10, 20, 40, 60, 80, 100], 'init': ['glorot_uniform', 'normal', 'uniform']}, 'pre_dispatch': '2*n_jobs', 'refit': True, 'return_train_score': False, 'scoring': None, 'verbose': 0}\n",
            "0.579427 (0.018136) with: {'batch_size': 40, 'init': 'uniform', 'nb_epoch': 10, 'optimizer': 'rmsprop'} {'cv': 3, 'error_score': nan, 'estimator__verbose': 0, 'estimator__build_fn': <function create_model at 0x7f55357ff0d0>, 'estimator': <tensorflow.python.keras.wrappers.scikit_learn.KerasClassifier object at 0x7f553619ef28>, 'iid': 'deprecated', 'n_jobs': -1, 'param_grid': {'optimizer': ['rmsprop', 'adam'], 'nb_epoch': [10, 50, 100], 'batch_size': [10, 20, 40, 60, 80, 100], 'init': ['glorot_uniform', 'normal', 'uniform']}, 'pre_dispatch': '2*n_jobs', 'refit': True, 'return_train_score': False, 'scoring': None, 'verbose': 0}\n",
            "0.500000 (0.085045) with: {'batch_size': 40, 'init': 'uniform', 'nb_epoch': 10, 'optimizer': 'adam'} {'cv': 3, 'error_score': nan, 'estimator__verbose': 0, 'estimator__build_fn': <function create_model at 0x7f55357ff0d0>, 'estimator': <tensorflow.python.keras.wrappers.scikit_learn.KerasClassifier object at 0x7f553619ef28>, 'iid': 'deprecated', 'n_jobs': -1, 'param_grid': {'optimizer': ['rmsprop', 'adam'], 'nb_epoch': [10, 50, 100], 'batch_size': [10, 20, 40, 60, 80, 100], 'init': ['glorot_uniform', 'normal', 'uniform']}, 'pre_dispatch': '2*n_jobs', 'refit': True, 'return_train_score': False, 'scoring': None, 'verbose': 0}\n",
            "0.408854 (0.021236) with: {'batch_size': 40, 'init': 'uniform', 'nb_epoch': 50, 'optimizer': 'rmsprop'} {'cv': 3, 'error_score': nan, 'estimator__verbose': 0, 'estimator__build_fn': <function create_model at 0x7f55357ff0d0>, 'estimator': <tensorflow.python.keras.wrappers.scikit_learn.KerasClassifier object at 0x7f553619ef28>, 'iid': 'deprecated', 'n_jobs': -1, 'param_grid': {'optimizer': ['rmsprop', 'adam'], 'nb_epoch': [10, 50, 100], 'batch_size': [10, 20, 40, 60, 80, 100], 'init': ['glorot_uniform', 'normal', 'uniform']}, 'pre_dispatch': '2*n_jobs', 'refit': True, 'return_train_score': False, 'scoring': None, 'verbose': 0}\n",
            "0.488281 (0.116709) with: {'batch_size': 40, 'init': 'uniform', 'nb_epoch': 50, 'optimizer': 'adam'} {'cv': 3, 'error_score': nan, 'estimator__verbose': 0, 'estimator__build_fn': <function create_model at 0x7f55357ff0d0>, 'estimator': <tensorflow.python.keras.wrappers.scikit_learn.KerasClassifier object at 0x7f553619ef28>, 'iid': 'deprecated', 'n_jobs': -1, 'param_grid': {'optimizer': ['rmsprop', 'adam'], 'nb_epoch': [10, 50, 100], 'batch_size': [10, 20, 40, 60, 80, 100], 'init': ['glorot_uniform', 'normal', 'uniform']}, 'pre_dispatch': '2*n_jobs', 'refit': True, 'return_train_score': False, 'scoring': None, 'verbose': 0}\n",
            "0.494792 (0.089778) with: {'batch_size': 40, 'init': 'uniform', 'nb_epoch': 100, 'optimizer': 'rmsprop'} {'cv': 3, 'error_score': nan, 'estimator__verbose': 0, 'estimator__build_fn': <function create_model at 0x7f55357ff0d0>, 'estimator': <tensorflow.python.keras.wrappers.scikit_learn.KerasClassifier object at 0x7f553619ef28>, 'iid': 'deprecated', 'n_jobs': -1, 'param_grid': {'optimizer': ['rmsprop', 'adam'], 'nb_epoch': [10, 50, 100], 'batch_size': [10, 20, 40, 60, 80, 100], 'init': ['glorot_uniform', 'normal', 'uniform']}, 'pre_dispatch': '2*n_jobs', 'refit': True, 'return_train_score': False, 'scoring': None, 'verbose': 0}\n",
            "0.602865 (0.048405) with: {'batch_size': 40, 'init': 'uniform', 'nb_epoch': 100, 'optimizer': 'adam'} {'cv': 3, 'error_score': nan, 'estimator__verbose': 0, 'estimator__build_fn': <function create_model at 0x7f55357ff0d0>, 'estimator': <tensorflow.python.keras.wrappers.scikit_learn.KerasClassifier object at 0x7f553619ef28>, 'iid': 'deprecated', 'n_jobs': -1, 'param_grid': {'optimizer': ['rmsprop', 'adam'], 'nb_epoch': [10, 50, 100], 'batch_size': [10, 20, 40, 60, 80, 100], 'init': ['glorot_uniform', 'normal', 'uniform']}, 'pre_dispatch': '2*n_jobs', 'refit': True, 'return_train_score': False, 'scoring': None, 'verbose': 0}\n",
            "0.367188 (0.028348) with: {'batch_size': 60, 'init': 'glorot_uniform', 'nb_epoch': 10, 'optimizer': 'rmsprop'} {'cv': 3, 'error_score': nan, 'estimator__verbose': 0, 'estimator__build_fn': <function create_model at 0x7f55357ff0d0>, 'estimator': <tensorflow.python.keras.wrappers.scikit_learn.KerasClassifier object at 0x7f553619ef28>, 'iid': 'deprecated', 'n_jobs': -1, 'param_grid': {'optimizer': ['rmsprop', 'adam'], 'nb_epoch': [10, 50, 100], 'batch_size': [10, 20, 40, 60, 80, 100], 'init': ['glorot_uniform', 'normal', 'uniform']}, 'pre_dispatch': '2*n_jobs', 'refit': True, 'return_train_score': False, 'scoring': None, 'verbose': 0}\n",
            "0.579427 (0.068431) with: {'batch_size': 60, 'init': 'glorot_uniform', 'nb_epoch': 10, 'optimizer': 'adam'} {'cv': 3, 'error_score': nan, 'estimator__verbose': 0, 'estimator__build_fn': <function create_model at 0x7f55357ff0d0>, 'estimator': <tensorflow.python.keras.wrappers.scikit_learn.KerasClassifier object at 0x7f553619ef28>, 'iid': 'deprecated', 'n_jobs': -1, 'param_grid': {'optimizer': ['rmsprop', 'adam'], 'nb_epoch': [10, 50, 100], 'batch_size': [10, 20, 40, 60, 80, 100], 'init': ['glorot_uniform', 'normal', 'uniform']}, 'pre_dispatch': '2*n_jobs', 'refit': True, 'return_train_score': False, 'scoring': None, 'verbose': 0}\n",
            "0.609375 (0.057675) with: {'batch_size': 60, 'init': 'glorot_uniform', 'nb_epoch': 50, 'optimizer': 'rmsprop'} {'cv': 3, 'error_score': nan, 'estimator__verbose': 0, 'estimator__build_fn': <function create_model at 0x7f55357ff0d0>, 'estimator': <tensorflow.python.keras.wrappers.scikit_learn.KerasClassifier object at 0x7f553619ef28>, 'iid': 'deprecated', 'n_jobs': -1, 'param_grid': {'optimizer': ['rmsprop', 'adam'], 'nb_epoch': [10, 50, 100], 'batch_size': [10, 20, 40, 60, 80, 100], 'init': ['glorot_uniform', 'normal', 'uniform']}, 'pre_dispatch': '2*n_jobs', 'refit': True, 'return_train_score': False, 'scoring': None, 'verbose': 0}\n",
            "0.552083 (0.111964) with: {'batch_size': 60, 'init': 'glorot_uniform', 'nb_epoch': 50, 'optimizer': 'adam'} {'cv': 3, 'error_score': nan, 'estimator__verbose': 0, 'estimator__build_fn': <function create_model at 0x7f55357ff0d0>, 'estimator': <tensorflow.python.keras.wrappers.scikit_learn.KerasClassifier object at 0x7f553619ef28>, 'iid': 'deprecated', 'n_jobs': -1, 'param_grid': {'optimizer': ['rmsprop', 'adam'], 'nb_epoch': [10, 50, 100], 'batch_size': [10, 20, 40, 60, 80, 100], 'init': ['glorot_uniform', 'normal', 'uniform']}, 'pre_dispatch': '2*n_jobs', 'refit': True, 'return_train_score': False, 'scoring': None, 'verbose': 0}\n",
            "0.459635 (0.041010) with: {'batch_size': 60, 'init': 'glorot_uniform', 'nb_epoch': 100, 'optimizer': 'rmsprop'} {'cv': 3, 'error_score': nan, 'estimator__verbose': 0, 'estimator__build_fn': <function create_model at 0x7f55357ff0d0>, 'estimator': <tensorflow.python.keras.wrappers.scikit_learn.KerasClassifier object at 0x7f553619ef28>, 'iid': 'deprecated', 'n_jobs': -1, 'param_grid': {'optimizer': ['rmsprop', 'adam'], 'nb_epoch': [10, 50, 100], 'batch_size': [10, 20, 40, 60, 80, 100], 'init': ['glorot_uniform', 'normal', 'uniform']}, 'pre_dispatch': '2*n_jobs', 'refit': True, 'return_train_score': False, 'scoring': None, 'verbose': 0}\n",
            "0.516927 (0.087482) with: {'batch_size': 60, 'init': 'glorot_uniform', 'nb_epoch': 100, 'optimizer': 'adam'} {'cv': 3, 'error_score': nan, 'estimator__verbose': 0, 'estimator__build_fn': <function create_model at 0x7f55357ff0d0>, 'estimator': <tensorflow.python.keras.wrappers.scikit_learn.KerasClassifier object at 0x7f553619ef28>, 'iid': 'deprecated', 'n_jobs': -1, 'param_grid': {'optimizer': ['rmsprop', 'adam'], 'nb_epoch': [10, 50, 100], 'batch_size': [10, 20, 40, 60, 80, 100], 'init': ['glorot_uniform', 'normal', 'uniform']}, 'pre_dispatch': '2*n_jobs', 'refit': True, 'return_train_score': False, 'scoring': None, 'verbose': 0}\n",
            "0.554688 (0.144514) with: {'batch_size': 60, 'init': 'normal', 'nb_epoch': 10, 'optimizer': 'rmsprop'} {'cv': 3, 'error_score': nan, 'estimator__verbose': 0, 'estimator__build_fn': <function create_model at 0x7f55357ff0d0>, 'estimator': <tensorflow.python.keras.wrappers.scikit_learn.KerasClassifier object at 0x7f553619ef28>, 'iid': 'deprecated', 'n_jobs': -1, 'param_grid': {'optimizer': ['rmsprop', 'adam'], 'nb_epoch': [10, 50, 100], 'batch_size': [10, 20, 40, 60, 80, 100], 'init': ['glorot_uniform', 'normal', 'uniform']}, 'pre_dispatch': '2*n_jobs', 'refit': True, 'return_train_score': False, 'scoring': None, 'verbose': 0}\n",
            "0.544271 (0.117808) with: {'batch_size': 60, 'init': 'normal', 'nb_epoch': 10, 'optimizer': 'adam'} {'cv': 3, 'error_score': nan, 'estimator__verbose': 0, 'estimator__build_fn': <function create_model at 0x7f55357ff0d0>, 'estimator': <tensorflow.python.keras.wrappers.scikit_learn.KerasClassifier object at 0x7f553619ef28>, 'iid': 'deprecated', 'n_jobs': -1, 'param_grid': {'optimizer': ['rmsprop', 'adam'], 'nb_epoch': [10, 50, 100], 'batch_size': [10, 20, 40, 60, 80, 100], 'init': ['glorot_uniform', 'normal', 'uniform']}, 'pre_dispatch': '2*n_jobs', 'refit': True, 'return_train_score': False, 'scoring': None, 'verbose': 0}\n",
            "0.597656 (0.079352) with: {'batch_size': 60, 'init': 'normal', 'nb_epoch': 50, 'optimizer': 'rmsprop'} {'cv': 3, 'error_score': nan, 'estimator__verbose': 0, 'estimator__build_fn': <function create_model at 0x7f55357ff0d0>, 'estimator': <tensorflow.python.keras.wrappers.scikit_learn.KerasClassifier object at 0x7f553619ef28>, 'iid': 'deprecated', 'n_jobs': -1, 'param_grid': {'optimizer': ['rmsprop', 'adam'], 'nb_epoch': [10, 50, 100], 'batch_size': [10, 20, 40, 60, 80, 100], 'init': ['glorot_uniform', 'normal', 'uniform']}, 'pre_dispatch': '2*n_jobs', 'refit': True, 'return_train_score': False, 'scoring': None, 'verbose': 0}\n",
            "0.554688 (0.118139) with: {'batch_size': 60, 'init': 'normal', 'nb_epoch': 50, 'optimizer': 'adam'} {'cv': 3, 'error_score': nan, 'estimator__verbose': 0, 'estimator__build_fn': <function create_model at 0x7f55357ff0d0>, 'estimator': <tensorflow.python.keras.wrappers.scikit_learn.KerasClassifier object at 0x7f553619ef28>, 'iid': 'deprecated', 'n_jobs': -1, 'param_grid': {'optimizer': ['rmsprop', 'adam'], 'nb_epoch': [10, 50, 100], 'batch_size': [10, 20, 40, 60, 80, 100], 'init': ['glorot_uniform', 'normal', 'uniform']}, 'pre_dispatch': '2*n_jobs', 'refit': True, 'return_train_score': False, 'scoring': None, 'verbose': 0}\n",
            "0.497396 (0.135103) with: {'batch_size': 60, 'init': 'normal', 'nb_epoch': 100, 'optimizer': 'rmsprop'} {'cv': 3, 'error_score': nan, 'estimator__verbose': 0, 'estimator__build_fn': <function create_model at 0x7f55357ff0d0>, 'estimator': <tensorflow.python.keras.wrappers.scikit_learn.KerasClassifier object at 0x7f553619ef28>, 'iid': 'deprecated', 'n_jobs': -1, 'param_grid': {'optimizer': ['rmsprop', 'adam'], 'nb_epoch': [10, 50, 100], 'batch_size': [10, 20, 40, 60, 80, 100], 'init': ['glorot_uniform', 'normal', 'uniform']}, 'pre_dispatch': '2*n_jobs', 'refit': True, 'return_train_score': False, 'scoring': None, 'verbose': 0}\n",
            "0.617188 (0.051031) with: {'batch_size': 60, 'init': 'normal', 'nb_epoch': 100, 'optimizer': 'adam'} {'cv': 3, 'error_score': nan, 'estimator__verbose': 0, 'estimator__build_fn': <function create_model at 0x7f55357ff0d0>, 'estimator': <tensorflow.python.keras.wrappers.scikit_learn.KerasClassifier object at 0x7f553619ef28>, 'iid': 'deprecated', 'n_jobs': -1, 'param_grid': {'optimizer': ['rmsprop', 'adam'], 'nb_epoch': [10, 50, 100], 'batch_size': [10, 20, 40, 60, 80, 100], 'init': ['glorot_uniform', 'normal', 'uniform']}, 'pre_dispatch': '2*n_jobs', 'refit': True, 'return_train_score': False, 'scoring': None, 'verbose': 0}\n",
            "0.451823 (0.092951) with: {'batch_size': 60, 'init': 'uniform', 'nb_epoch': 10, 'optimizer': 'rmsprop'} {'cv': 3, 'error_score': nan, 'estimator__verbose': 0, 'estimator__build_fn': <function create_model at 0x7f55357ff0d0>, 'estimator': <tensorflow.python.keras.wrappers.scikit_learn.KerasClassifier object at 0x7f553619ef28>, 'iid': 'deprecated', 'n_jobs': -1, 'param_grid': {'optimizer': ['rmsprop', 'adam'], 'nb_epoch': [10, 50, 100], 'batch_size': [10, 20, 40, 60, 80, 100], 'init': ['glorot_uniform', 'normal', 'uniform']}, 'pre_dispatch': '2*n_jobs', 'refit': True, 'return_train_score': False, 'scoring': None, 'verbose': 0}\n",
            "0.575521 (0.030978) with: {'batch_size': 60, 'init': 'uniform', 'nb_epoch': 10, 'optimizer': 'adam'} {'cv': 3, 'error_score': nan, 'estimator__verbose': 0, 'estimator__build_fn': <function create_model at 0x7f55357ff0d0>, 'estimator': <tensorflow.python.keras.wrappers.scikit_learn.KerasClassifier object at 0x7f553619ef28>, 'iid': 'deprecated', 'n_jobs': -1, 'param_grid': {'optimizer': ['rmsprop', 'adam'], 'nb_epoch': [10, 50, 100], 'batch_size': [10, 20, 40, 60, 80, 100], 'init': ['glorot_uniform', 'normal', 'uniform']}, 'pre_dispatch': '2*n_jobs', 'refit': True, 'return_train_score': False, 'scoring': None, 'verbose': 0}\n",
            "0.372396 (0.041626) with: {'batch_size': 60, 'init': 'uniform', 'nb_epoch': 50, 'optimizer': 'rmsprop'} {'cv': 3, 'error_score': nan, 'estimator__verbose': 0, 'estimator__build_fn': <function create_model at 0x7f55357ff0d0>, 'estimator': <tensorflow.python.keras.wrappers.scikit_learn.KerasClassifier object at 0x7f553619ef28>, 'iid': 'deprecated', 'n_jobs': -1, 'param_grid': {'optimizer': ['rmsprop', 'adam'], 'nb_epoch': [10, 50, 100], 'batch_size': [10, 20, 40, 60, 80, 100], 'init': ['glorot_uniform', 'normal', 'uniform']}, 'pre_dispatch': '2*n_jobs', 'refit': True, 'return_train_score': False, 'scoring': None, 'verbose': 0}\n",
            "0.356771 (0.024360) with: {'batch_size': 60, 'init': 'uniform', 'nb_epoch': 50, 'optimizer': 'adam'} {'cv': 3, 'error_score': nan, 'estimator__verbose': 0, 'estimator__build_fn': <function create_model at 0x7f55357ff0d0>, 'estimator': <tensorflow.python.keras.wrappers.scikit_learn.KerasClassifier object at 0x7f553619ef28>, 'iid': 'deprecated', 'n_jobs': -1, 'param_grid': {'optimizer': ['rmsprop', 'adam'], 'nb_epoch': [10, 50, 100], 'batch_size': [10, 20, 40, 60, 80, 100], 'init': ['glorot_uniform', 'normal', 'uniform']}, 'pre_dispatch': '2*n_jobs', 'refit': True, 'return_train_score': False, 'scoring': None, 'verbose': 0}\n",
            "0.429688 (0.120060) with: {'batch_size': 60, 'init': 'uniform', 'nb_epoch': 100, 'optimizer': 'rmsprop'} {'cv': 3, 'error_score': nan, 'estimator__verbose': 0, 'estimator__build_fn': <function create_model at 0x7f55357ff0d0>, 'estimator': <tensorflow.python.keras.wrappers.scikit_learn.KerasClassifier object at 0x7f553619ef28>, 'iid': 'deprecated', 'n_jobs': -1, 'param_grid': {'optimizer': ['rmsprop', 'adam'], 'nb_epoch': [10, 50, 100], 'batch_size': [10, 20, 40, 60, 80, 100], 'init': ['glorot_uniform', 'normal', 'uniform']}, 'pre_dispatch': '2*n_jobs', 'refit': True, 'return_train_score': False, 'scoring': None, 'verbose': 0}\n",
            "0.541667 (0.120877) with: {'batch_size': 60, 'init': 'uniform', 'nb_epoch': 100, 'optimizer': 'adam'} {'cv': 3, 'error_score': nan, 'estimator__verbose': 0, 'estimator__build_fn': <function create_model at 0x7f55357ff0d0>, 'estimator': <tensorflow.python.keras.wrappers.scikit_learn.KerasClassifier object at 0x7f553619ef28>, 'iid': 'deprecated', 'n_jobs': -1, 'param_grid': {'optimizer': ['rmsprop', 'adam'], 'nb_epoch': [10, 50, 100], 'batch_size': [10, 20, 40, 60, 80, 100], 'init': ['glorot_uniform', 'normal', 'uniform']}, 'pre_dispatch': '2*n_jobs', 'refit': True, 'return_train_score': False, 'scoring': None, 'verbose': 0}\n",
            "0.575521 (0.056727) with: {'batch_size': 80, 'init': 'glorot_uniform', 'nb_epoch': 10, 'optimizer': 'rmsprop'} {'cv': 3, 'error_score': nan, 'estimator__verbose': 0, 'estimator__build_fn': <function create_model at 0x7f55357ff0d0>, 'estimator': <tensorflow.python.keras.wrappers.scikit_learn.KerasClassifier object at 0x7f553619ef28>, 'iid': 'deprecated', 'n_jobs': -1, 'param_grid': {'optimizer': ['rmsprop', 'adam'], 'nb_epoch': [10, 50, 100], 'batch_size': [10, 20, 40, 60, 80, 100], 'init': ['glorot_uniform', 'normal', 'uniform']}, 'pre_dispatch': '2*n_jobs', 'refit': True, 'return_train_score': False, 'scoring': None, 'verbose': 0}\n",
            "0.606771 (0.089437) with: {'batch_size': 80, 'init': 'glorot_uniform', 'nb_epoch': 10, 'optimizer': 'adam'} {'cv': 3, 'error_score': nan, 'estimator__verbose': 0, 'estimator__build_fn': <function create_model at 0x7f55357ff0d0>, 'estimator': <tensorflow.python.keras.wrappers.scikit_learn.KerasClassifier object at 0x7f553619ef28>, 'iid': 'deprecated', 'n_jobs': -1, 'param_grid': {'optimizer': ['rmsprop', 'adam'], 'nb_epoch': [10, 50, 100], 'batch_size': [10, 20, 40, 60, 80, 100], 'init': ['glorot_uniform', 'normal', 'uniform']}, 'pre_dispatch': '2*n_jobs', 'refit': True, 'return_train_score': False, 'scoring': None, 'verbose': 0}\n",
            "0.497396 (0.137935) with: {'batch_size': 80, 'init': 'glorot_uniform', 'nb_epoch': 50, 'optimizer': 'rmsprop'} {'cv': 3, 'error_score': nan, 'estimator__verbose': 0, 'estimator__build_fn': <function create_model at 0x7f55357ff0d0>, 'estimator': <tensorflow.python.keras.wrappers.scikit_learn.KerasClassifier object at 0x7f553619ef28>, 'iid': 'deprecated', 'n_jobs': -1, 'param_grid': {'optimizer': ['rmsprop', 'adam'], 'nb_epoch': [10, 50, 100], 'batch_size': [10, 20, 40, 60, 80, 100], 'init': ['glorot_uniform', 'normal', 'uniform']}, 'pre_dispatch': '2*n_jobs', 'refit': True, 'return_train_score': False, 'scoring': None, 'verbose': 0}\n",
            "0.386719 (0.077602) with: {'batch_size': 80, 'init': 'glorot_uniform', 'nb_epoch': 50, 'optimizer': 'adam'} {'cv': 3, 'error_score': nan, 'estimator__verbose': 0, 'estimator__build_fn': <function create_model at 0x7f55357ff0d0>, 'estimator': <tensorflow.python.keras.wrappers.scikit_learn.KerasClassifier object at 0x7f553619ef28>, 'iid': 'deprecated', 'n_jobs': -1, 'param_grid': {'optimizer': ['rmsprop', 'adam'], 'nb_epoch': [10, 50, 100], 'batch_size': [10, 20, 40, 60, 80, 100], 'init': ['glorot_uniform', 'normal', 'uniform']}, 'pre_dispatch': '2*n_jobs', 'refit': True, 'return_train_score': False, 'scoring': None, 'verbose': 0}\n",
            "0.417969 (0.094237) with: {'batch_size': 80, 'init': 'glorot_uniform', 'nb_epoch': 100, 'optimizer': 'rmsprop'} {'cv': 3, 'error_score': nan, 'estimator__verbose': 0, 'estimator__build_fn': <function create_model at 0x7f55357ff0d0>, 'estimator': <tensorflow.python.keras.wrappers.scikit_learn.KerasClassifier object at 0x7f553619ef28>, 'iid': 'deprecated', 'n_jobs': -1, 'param_grid': {'optimizer': ['rmsprop', 'adam'], 'nb_epoch': [10, 50, 100], 'batch_size': [10, 20, 40, 60, 80, 100], 'init': ['glorot_uniform', 'normal', 'uniform']}, 'pre_dispatch': '2*n_jobs', 'refit': True, 'return_train_score': False, 'scoring': None, 'verbose': 0}\n",
            "0.574219 (0.092823) with: {'batch_size': 80, 'init': 'glorot_uniform', 'nb_epoch': 100, 'optimizer': 'adam'} {'cv': 3, 'error_score': nan, 'estimator__verbose': 0, 'estimator__build_fn': <function create_model at 0x7f55357ff0d0>, 'estimator': <tensorflow.python.keras.wrappers.scikit_learn.KerasClassifier object at 0x7f553619ef28>, 'iid': 'deprecated', 'n_jobs': -1, 'param_grid': {'optimizer': ['rmsprop', 'adam'], 'nb_epoch': [10, 50, 100], 'batch_size': [10, 20, 40, 60, 80, 100], 'init': ['glorot_uniform', 'normal', 'uniform']}, 'pre_dispatch': '2*n_jobs', 'refit': True, 'return_train_score': False, 'scoring': None, 'verbose': 0}\n",
            "0.532552 (0.091016) with: {'batch_size': 80, 'init': 'normal', 'nb_epoch': 10, 'optimizer': 'rmsprop'} {'cv': 3, 'error_score': nan, 'estimator__verbose': 0, 'estimator__build_fn': <function create_model at 0x7f55357ff0d0>, 'estimator': <tensorflow.python.keras.wrappers.scikit_learn.KerasClassifier object at 0x7f553619ef28>, 'iid': 'deprecated', 'n_jobs': -1, 'param_grid': {'optimizer': ['rmsprop', 'adam'], 'nb_epoch': [10, 50, 100], 'batch_size': [10, 20, 40, 60, 80, 100], 'init': ['glorot_uniform', 'normal', 'uniform']}, 'pre_dispatch': '2*n_jobs', 'refit': True, 'return_train_score': False, 'scoring': None, 'verbose': 0}\n",
            "0.619792 (0.039879) with: {'batch_size': 80, 'init': 'normal', 'nb_epoch': 10, 'optimizer': 'adam'} {'cv': 3, 'error_score': nan, 'estimator__verbose': 0, 'estimator__build_fn': <function create_model at 0x7f55357ff0d0>, 'estimator': <tensorflow.python.keras.wrappers.scikit_learn.KerasClassifier object at 0x7f553619ef28>, 'iid': 'deprecated', 'n_jobs': -1, 'param_grid': {'optimizer': ['rmsprop', 'adam'], 'nb_epoch': [10, 50, 100], 'batch_size': [10, 20, 40, 60, 80, 100], 'init': ['glorot_uniform', 'normal', 'uniform']}, 'pre_dispatch': '2*n_jobs', 'refit': True, 'return_train_score': False, 'scoring': None, 'verbose': 0}\n",
            "0.348958 (0.024774) with: {'batch_size': 80, 'init': 'normal', 'nb_epoch': 50, 'optimizer': 'rmsprop'} {'cv': 3, 'error_score': nan, 'estimator__verbose': 0, 'estimator__build_fn': <function create_model at 0x7f55357ff0d0>, 'estimator': <tensorflow.python.keras.wrappers.scikit_learn.KerasClassifier object at 0x7f553619ef28>, 'iid': 'deprecated', 'n_jobs': -1, 'param_grid': {'optimizer': ['rmsprop', 'adam'], 'nb_epoch': [10, 50, 100], 'batch_size': [10, 20, 40, 60, 80, 100], 'init': ['glorot_uniform', 'normal', 'uniform']}, 'pre_dispatch': '2*n_jobs', 'refit': True, 'return_train_score': False, 'scoring': None, 'verbose': 0}\n",
            "0.510417 (0.122962) with: {'batch_size': 80, 'init': 'normal', 'nb_epoch': 50, 'optimizer': 'adam'} {'cv': 3, 'error_score': nan, 'estimator__verbose': 0, 'estimator__build_fn': <function create_model at 0x7f55357ff0d0>, 'estimator': <tensorflow.python.keras.wrappers.scikit_learn.KerasClassifier object at 0x7f553619ef28>, 'iid': 'deprecated', 'n_jobs': -1, 'param_grid': {'optimizer': ['rmsprop', 'adam'], 'nb_epoch': [10, 50, 100], 'batch_size': [10, 20, 40, 60, 80, 100], 'init': ['glorot_uniform', 'normal', 'uniform']}, 'pre_dispatch': '2*n_jobs', 'refit': True, 'return_train_score': False, 'scoring': None, 'verbose': 0}\n",
            "0.529948 (0.147693) with: {'batch_size': 80, 'init': 'normal', 'nb_epoch': 100, 'optimizer': 'rmsprop'} {'cv': 3, 'error_score': nan, 'estimator__verbose': 0, 'estimator__build_fn': <function create_model at 0x7f55357ff0d0>, 'estimator': <tensorflow.python.keras.wrappers.scikit_learn.KerasClassifier object at 0x7f553619ef28>, 'iid': 'deprecated', 'n_jobs': -1, 'param_grid': {'optimizer': ['rmsprop', 'adam'], 'nb_epoch': [10, 50, 100], 'batch_size': [10, 20, 40, 60, 80, 100], 'init': ['glorot_uniform', 'normal', 'uniform']}, 'pre_dispatch': '2*n_jobs', 'refit': True, 'return_train_score': False, 'scoring': None, 'verbose': 0}\n",
            "0.404948 (0.061295) with: {'batch_size': 80, 'init': 'normal', 'nb_epoch': 100, 'optimizer': 'adam'} {'cv': 3, 'error_score': nan, 'estimator__verbose': 0, 'estimator__build_fn': <function create_model at 0x7f55357ff0d0>, 'estimator': <tensorflow.python.keras.wrappers.scikit_learn.KerasClassifier object at 0x7f553619ef28>, 'iid': 'deprecated', 'n_jobs': -1, 'param_grid': {'optimizer': ['rmsprop', 'adam'], 'nb_epoch': [10, 50, 100], 'batch_size': [10, 20, 40, 60, 80, 100], 'init': ['glorot_uniform', 'normal', 'uniform']}, 'pre_dispatch': '2*n_jobs', 'refit': True, 'return_train_score': False, 'scoring': None, 'verbose': 0}\n",
            "0.355469 (0.020915) with: {'batch_size': 80, 'init': 'uniform', 'nb_epoch': 10, 'optimizer': 'rmsprop'} {'cv': 3, 'error_score': nan, 'estimator__verbose': 0, 'estimator__build_fn': <function create_model at 0x7f55357ff0d0>, 'estimator': <tensorflow.python.keras.wrappers.scikit_learn.KerasClassifier object at 0x7f553619ef28>, 'iid': 'deprecated', 'n_jobs': -1, 'param_grid': {'optimizer': ['rmsprop', 'adam'], 'nb_epoch': [10, 50, 100], 'batch_size': [10, 20, 40, 60, 80, 100], 'init': ['glorot_uniform', 'normal', 'uniform']}, 'pre_dispatch': '2*n_jobs', 'refit': True, 'return_train_score': False, 'scoring': None, 'verbose': 0}\n",
            "0.535156 (0.147440) with: {'batch_size': 80, 'init': 'uniform', 'nb_epoch': 10, 'optimizer': 'adam'} {'cv': 3, 'error_score': nan, 'estimator__verbose': 0, 'estimator__build_fn': <function create_model at 0x7f55357ff0d0>, 'estimator': <tensorflow.python.keras.wrappers.scikit_learn.KerasClassifier object at 0x7f553619ef28>, 'iid': 'deprecated', 'n_jobs': -1, 'param_grid': {'optimizer': ['rmsprop', 'adam'], 'nb_epoch': [10, 50, 100], 'batch_size': [10, 20, 40, 60, 80, 100], 'init': ['glorot_uniform', 'normal', 'uniform']}, 'pre_dispatch': '2*n_jobs', 'refit': True, 'return_train_score': False, 'scoring': None, 'verbose': 0}\n",
            "0.535156 (0.147440) with: {'batch_size': 80, 'init': 'uniform', 'nb_epoch': 50, 'optimizer': 'rmsprop'} {'cv': 3, 'error_score': nan, 'estimator__verbose': 0, 'estimator__build_fn': <function create_model at 0x7f55357ff0d0>, 'estimator': <tensorflow.python.keras.wrappers.scikit_learn.KerasClassifier object at 0x7f553619ef28>, 'iid': 'deprecated', 'n_jobs': -1, 'param_grid': {'optimizer': ['rmsprop', 'adam'], 'nb_epoch': [10, 50, 100], 'batch_size': [10, 20, 40, 60, 80, 100], 'init': ['glorot_uniform', 'normal', 'uniform']}, 'pre_dispatch': '2*n_jobs', 'refit': True, 'return_train_score': False, 'scoring': None, 'verbose': 0}\n",
            "0.636719 (0.027805) with: {'batch_size': 80, 'init': 'uniform', 'nb_epoch': 50, 'optimizer': 'adam'} {'cv': 3, 'error_score': nan, 'estimator__verbose': 0, 'estimator__build_fn': <function create_model at 0x7f55357ff0d0>, 'estimator': <tensorflow.python.keras.wrappers.scikit_learn.KerasClassifier object at 0x7f553619ef28>, 'iid': 'deprecated', 'n_jobs': -1, 'param_grid': {'optimizer': ['rmsprop', 'adam'], 'nb_epoch': [10, 50, 100], 'batch_size': [10, 20, 40, 60, 80, 100], 'init': ['glorot_uniform', 'normal', 'uniform']}, 'pre_dispatch': '2*n_jobs', 'refit': True, 'return_train_score': False, 'scoring': None, 'verbose': 0}\n",
            "0.455729 (0.146518) with: {'batch_size': 80, 'init': 'uniform', 'nb_epoch': 100, 'optimizer': 'rmsprop'} {'cv': 3, 'error_score': nan, 'estimator__verbose': 0, 'estimator__build_fn': <function create_model at 0x7f55357ff0d0>, 'estimator': <tensorflow.python.keras.wrappers.scikit_learn.KerasClassifier object at 0x7f553619ef28>, 'iid': 'deprecated', 'n_jobs': -1, 'param_grid': {'optimizer': ['rmsprop', 'adam'], 'nb_epoch': [10, 50, 100], 'batch_size': [10, 20, 40, 60, 80, 100], 'init': ['glorot_uniform', 'normal', 'uniform']}, 'pre_dispatch': '2*n_jobs', 'refit': True, 'return_train_score': False, 'scoring': None, 'verbose': 0}\n",
            "0.545573 (0.114524) with: {'batch_size': 80, 'init': 'uniform', 'nb_epoch': 100, 'optimizer': 'adam'} {'cv': 3, 'error_score': nan, 'estimator__verbose': 0, 'estimator__build_fn': <function create_model at 0x7f55357ff0d0>, 'estimator': <tensorflow.python.keras.wrappers.scikit_learn.KerasClassifier object at 0x7f553619ef28>, 'iid': 'deprecated', 'n_jobs': -1, 'param_grid': {'optimizer': ['rmsprop', 'adam'], 'nb_epoch': [10, 50, 100], 'batch_size': [10, 20, 40, 60, 80, 100], 'init': ['glorot_uniform', 'normal', 'uniform']}, 'pre_dispatch': '2*n_jobs', 'refit': True, 'return_train_score': False, 'scoring': None, 'verbose': 0}\n",
            "0.533854 (0.149269) with: {'batch_size': 100, 'init': 'glorot_uniform', 'nb_epoch': 10, 'optimizer': 'rmsprop'} {'cv': 3, 'error_score': nan, 'estimator__verbose': 0, 'estimator__build_fn': <function create_model at 0x7f55357ff0d0>, 'estimator': <tensorflow.python.keras.wrappers.scikit_learn.KerasClassifier object at 0x7f553619ef28>, 'iid': 'deprecated', 'n_jobs': -1, 'param_grid': {'optimizer': ['rmsprop', 'adam'], 'nb_epoch': [10, 50, 100], 'batch_size': [10, 20, 40, 60, 80, 100], 'init': ['glorot_uniform', 'normal', 'uniform']}, 'pre_dispatch': '2*n_jobs', 'refit': True, 'return_train_score': False, 'scoring': None, 'verbose': 0}\n",
            "0.430990 (0.132134) with: {'batch_size': 100, 'init': 'glorot_uniform', 'nb_epoch': 10, 'optimizer': 'adam'} {'cv': 3, 'error_score': nan, 'estimator__verbose': 0, 'estimator__build_fn': <function create_model at 0x7f55357ff0d0>, 'estimator': <tensorflow.python.keras.wrappers.scikit_learn.KerasClassifier object at 0x7f553619ef28>, 'iid': 'deprecated', 'n_jobs': -1, 'param_grid': {'optimizer': ['rmsprop', 'adam'], 'nb_epoch': [10, 50, 100], 'batch_size': [10, 20, 40, 60, 80, 100], 'init': ['glorot_uniform', 'normal', 'uniform']}, 'pre_dispatch': '2*n_jobs', 'refit': True, 'return_train_score': False, 'scoring': None, 'verbose': 0}\n",
            "0.526042 (0.092951) with: {'batch_size': 100, 'init': 'glorot_uniform', 'nb_epoch': 50, 'optimizer': 'rmsprop'} {'cv': 3, 'error_score': nan, 'estimator__verbose': 0, 'estimator__build_fn': <function create_model at 0x7f55357ff0d0>, 'estimator': <tensorflow.python.keras.wrappers.scikit_learn.KerasClassifier object at 0x7f553619ef28>, 'iid': 'deprecated', 'n_jobs': -1, 'param_grid': {'optimizer': ['rmsprop', 'adam'], 'nb_epoch': [10, 50, 100], 'batch_size': [10, 20, 40, 60, 80, 100], 'init': ['glorot_uniform', 'normal', 'uniform']}, 'pre_dispatch': '2*n_jobs', 'refit': True, 'return_train_score': False, 'scoring': None, 'verbose': 0}\n",
            "0.636719 (0.017758) with: {'batch_size': 100, 'init': 'glorot_uniform', 'nb_epoch': 50, 'optimizer': 'adam'} {'cv': 3, 'error_score': nan, 'estimator__verbose': 0, 'estimator__build_fn': <function create_model at 0x7f55357ff0d0>, 'estimator': <tensorflow.python.keras.wrappers.scikit_learn.KerasClassifier object at 0x7f553619ef28>, 'iid': 'deprecated', 'n_jobs': -1, 'param_grid': {'optimizer': ['rmsprop', 'adam'], 'nb_epoch': [10, 50, 100], 'batch_size': [10, 20, 40, 60, 80, 100], 'init': ['glorot_uniform', 'normal', 'uniform']}, 'pre_dispatch': '2*n_jobs', 'refit': True, 'return_train_score': False, 'scoring': None, 'verbose': 0}\n",
            "0.501302 (0.124033) with: {'batch_size': 100, 'init': 'glorot_uniform', 'nb_epoch': 100, 'optimizer': 'rmsprop'} {'cv': 3, 'error_score': nan, 'estimator__verbose': 0, 'estimator__build_fn': <function create_model at 0x7f55357ff0d0>, 'estimator': <tensorflow.python.keras.wrappers.scikit_learn.KerasClassifier object at 0x7f553619ef28>, 'iid': 'deprecated', 'n_jobs': -1, 'param_grid': {'optimizer': ['rmsprop', 'adam'], 'nb_epoch': [10, 50, 100], 'batch_size': [10, 20, 40, 60, 80, 100], 'init': ['glorot_uniform', 'normal', 'uniform']}, 'pre_dispatch': '2*n_jobs', 'refit': True, 'return_train_score': False, 'scoring': None, 'verbose': 0}\n",
            "0.455729 (0.116985) with: {'batch_size': 100, 'init': 'glorot_uniform', 'nb_epoch': 100, 'optimizer': 'adam'} {'cv': 3, 'error_score': nan, 'estimator__verbose': 0, 'estimator__build_fn': <function create_model at 0x7f55357ff0d0>, 'estimator': <tensorflow.python.keras.wrappers.scikit_learn.KerasClassifier object at 0x7f553619ef28>, 'iid': 'deprecated', 'n_jobs': -1, 'param_grid': {'optimizer': ['rmsprop', 'adam'], 'nb_epoch': [10, 50, 100], 'batch_size': [10, 20, 40, 60, 80, 100], 'init': ['glorot_uniform', 'normal', 'uniform']}, 'pre_dispatch': '2*n_jobs', 'refit': True, 'return_train_score': False, 'scoring': None, 'verbose': 0}\n",
            "0.591146 (0.066393) with: {'batch_size': 100, 'init': 'normal', 'nb_epoch': 10, 'optimizer': 'rmsprop'} {'cv': 3, 'error_score': nan, 'estimator__verbose': 0, 'estimator__build_fn': <function create_model at 0x7f55357ff0d0>, 'estimator': <tensorflow.python.keras.wrappers.scikit_learn.KerasClassifier object at 0x7f553619ef28>, 'iid': 'deprecated', 'n_jobs': -1, 'param_grid': {'optimizer': ['rmsprop', 'adam'], 'nb_epoch': [10, 50, 100], 'batch_size': [10, 20, 40, 60, 80, 100], 'init': ['glorot_uniform', 'normal', 'uniform']}, 'pre_dispatch': '2*n_jobs', 'refit': True, 'return_train_score': False, 'scoring': None, 'verbose': 0}\n",
            "0.401042 (0.030314) with: {'batch_size': 100, 'init': 'normal', 'nb_epoch': 10, 'optimizer': 'adam'} {'cv': 3, 'error_score': nan, 'estimator__verbose': 0, 'estimator__build_fn': <function create_model at 0x7f55357ff0d0>, 'estimator': <tensorflow.python.keras.wrappers.scikit_learn.KerasClassifier object at 0x7f553619ef28>, 'iid': 'deprecated', 'n_jobs': -1, 'param_grid': {'optimizer': ['rmsprop', 'adam'], 'nb_epoch': [10, 50, 100], 'batch_size': [10, 20, 40, 60, 80, 100], 'init': ['glorot_uniform', 'normal', 'uniform']}, 'pre_dispatch': '2*n_jobs', 'refit': True, 'return_train_score': False, 'scoring': None, 'verbose': 0}\n",
            "0.544271 (0.146518) with: {'batch_size': 100, 'init': 'normal', 'nb_epoch': 50, 'optimizer': 'rmsprop'} {'cv': 3, 'error_score': nan, 'estimator__verbose': 0, 'estimator__build_fn': <function create_model at 0x7f55357ff0d0>, 'estimator': <tensorflow.python.keras.wrappers.scikit_learn.KerasClassifier object at 0x7f553619ef28>, 'iid': 'deprecated', 'n_jobs': -1, 'param_grid': {'optimizer': ['rmsprop', 'adam'], 'nb_epoch': [10, 50, 100], 'batch_size': [10, 20, 40, 60, 80, 100], 'init': ['glorot_uniform', 'normal', 'uniform']}, 'pre_dispatch': '2*n_jobs', 'refit': True, 'return_train_score': False, 'scoring': None, 'verbose': 0}\n",
            "0.420573 (0.139037) with: {'batch_size': 100, 'init': 'normal', 'nb_epoch': 50, 'optimizer': 'adam'} {'cv': 3, 'error_score': nan, 'estimator__verbose': 0, 'estimator__build_fn': <function create_model at 0x7f55357ff0d0>, 'estimator': <tensorflow.python.keras.wrappers.scikit_learn.KerasClassifier object at 0x7f553619ef28>, 'iid': 'deprecated', 'n_jobs': -1, 'param_grid': {'optimizer': ['rmsprop', 'adam'], 'nb_epoch': [10, 50, 100], 'batch_size': [10, 20, 40, 60, 80, 100], 'init': ['glorot_uniform', 'normal', 'uniform']}, 'pre_dispatch': '2*n_jobs', 'refit': True, 'return_train_score': False, 'scoring': None, 'verbose': 0}\n",
            "0.539062 (0.153789) with: {'batch_size': 100, 'init': 'normal', 'nb_epoch': 100, 'optimizer': 'rmsprop'} {'cv': 3, 'error_score': nan, 'estimator__verbose': 0, 'estimator__build_fn': <function create_model at 0x7f55357ff0d0>, 'estimator': <tensorflow.python.keras.wrappers.scikit_learn.KerasClassifier object at 0x7f553619ef28>, 'iid': 'deprecated', 'n_jobs': -1, 'param_grid': {'optimizer': ['rmsprop', 'adam'], 'nb_epoch': [10, 50, 100], 'batch_size': [10, 20, 40, 60, 80, 100], 'init': ['glorot_uniform', 'normal', 'uniform']}, 'pre_dispatch': '2*n_jobs', 'refit': True, 'return_train_score': False, 'scoring': None, 'verbose': 0}\n",
            "0.464844 (0.150378) with: {'batch_size': 100, 'init': 'normal', 'nb_epoch': 100, 'optimizer': 'adam'} {'cv': 3, 'error_score': nan, 'estimator__verbose': 0, 'estimator__build_fn': <function create_model at 0x7f55357ff0d0>, 'estimator': <tensorflow.python.keras.wrappers.scikit_learn.KerasClassifier object at 0x7f553619ef28>, 'iid': 'deprecated', 'n_jobs': -1, 'param_grid': {'optimizer': ['rmsprop', 'adam'], 'nb_epoch': [10, 50, 100], 'batch_size': [10, 20, 40, 60, 80, 100], 'init': ['glorot_uniform', 'normal', 'uniform']}, 'pre_dispatch': '2*n_jobs', 'refit': True, 'return_train_score': False, 'scoring': None, 'verbose': 0}\n",
            "0.417969 (0.078190) with: {'batch_size': 100, 'init': 'uniform', 'nb_epoch': 10, 'optimizer': 'rmsprop'} {'cv': 3, 'error_score': nan, 'estimator__verbose': 0, 'estimator__build_fn': <function create_model at 0x7f55357ff0d0>, 'estimator': <tensorflow.python.keras.wrappers.scikit_learn.KerasClassifier object at 0x7f553619ef28>, 'iid': 'deprecated', 'n_jobs': -1, 'param_grid': {'optimizer': ['rmsprop', 'adam'], 'nb_epoch': [10, 50, 100], 'batch_size': [10, 20, 40, 60, 80, 100], 'init': ['glorot_uniform', 'normal', 'uniform']}, 'pre_dispatch': '2*n_jobs', 'refit': True, 'return_train_score': False, 'scoring': None, 'verbose': 0}\n",
            "0.492188 (0.120060) with: {'batch_size': 100, 'init': 'uniform', 'nb_epoch': 10, 'optimizer': 'adam'} {'cv': 3, 'error_score': nan, 'estimator__verbose': 0, 'estimator__build_fn': <function create_model at 0x7f55357ff0d0>, 'estimator': <tensorflow.python.keras.wrappers.scikit_learn.KerasClassifier object at 0x7f553619ef28>, 'iid': 'deprecated', 'n_jobs': -1, 'param_grid': {'optimizer': ['rmsprop', 'adam'], 'nb_epoch': [10, 50, 100], 'batch_size': [10, 20, 40, 60, 80, 100], 'init': ['glorot_uniform', 'normal', 'uniform']}, 'pre_dispatch': '2*n_jobs', 'refit': True, 'return_train_score': False, 'scoring': None, 'verbose': 0}\n",
            "0.451823 (0.144772) with: {'batch_size': 100, 'init': 'uniform', 'nb_epoch': 50, 'optimizer': 'rmsprop'} {'cv': 3, 'error_score': nan, 'estimator__verbose': 0, 'estimator__build_fn': <function create_model at 0x7f55357ff0d0>, 'estimator': <tensorflow.python.keras.wrappers.scikit_learn.KerasClassifier object at 0x7f553619ef28>, 'iid': 'deprecated', 'n_jobs': -1, 'param_grid': {'optimizer': ['rmsprop', 'adam'], 'nb_epoch': [10, 50, 100], 'batch_size': [10, 20, 40, 60, 80, 100], 'init': ['glorot_uniform', 'normal', 'uniform']}, 'pre_dispatch': '2*n_jobs', 'refit': True, 'return_train_score': False, 'scoring': None, 'verbose': 0}\n",
            "0.639323 (0.014731) with: {'batch_size': 100, 'init': 'uniform', 'nb_epoch': 50, 'optimizer': 'adam'} {'cv': 3, 'error_score': nan, 'estimator__verbose': 0, 'estimator__build_fn': <function create_model at 0x7f55357ff0d0>, 'estimator': <tensorflow.python.keras.wrappers.scikit_learn.KerasClassifier object at 0x7f553619ef28>, 'iid': 'deprecated', 'n_jobs': -1, 'param_grid': {'optimizer': ['rmsprop', 'adam'], 'nb_epoch': [10, 50, 100], 'batch_size': [10, 20, 40, 60, 80, 100], 'init': ['glorot_uniform', 'normal', 'uniform']}, 'pre_dispatch': '2*n_jobs', 'refit': True, 'return_train_score': False, 'scoring': None, 'verbose': 0}\n",
            "0.602865 (0.038051) with: {'batch_size': 100, 'init': 'uniform', 'nb_epoch': 100, 'optimizer': 'rmsprop'} {'cv': 3, 'error_score': nan, 'estimator__verbose': 0, 'estimator__build_fn': <function create_model at 0x7f55357ff0d0>, 'estimator': <tensorflow.python.keras.wrappers.scikit_learn.KerasClassifier object at 0x7f553619ef28>, 'iid': 'deprecated', 'n_jobs': -1, 'param_grid': {'optimizer': ['rmsprop', 'adam'], 'nb_epoch': [10, 50, 100], 'batch_size': [10, 20, 40, 60, 80, 100], 'init': ['glorot_uniform', 'normal', 'uniform']}, 'pre_dispatch': '2*n_jobs', 'refit': True, 'return_train_score': False, 'scoring': None, 'verbose': 0}\n",
            "0.527344 (0.143949) with: {'batch_size': 100, 'init': 'uniform', 'nb_epoch': 100, 'optimizer': 'adam'} {'cv': 3, 'error_score': nan, 'estimator__verbose': 0, 'estimator__build_fn': <function create_model at 0x7f55357ff0d0>, 'estimator': <tensorflow.python.keras.wrappers.scikit_learn.KerasClassifier object at 0x7f553619ef28>, 'iid': 'deprecated', 'n_jobs': -1, 'param_grid': {'optimizer': ['rmsprop', 'adam'], 'nb_epoch': [10, 50, 100], 'batch_size': [10, 20, 40, 60, 80, 100], 'init': ['glorot_uniform', 'normal', 'uniform']}, 'pre_dispatch': '2*n_jobs', 'refit': True, 'return_train_score': False, 'scoring': None, 'verbose': 0}\n"
          ],
          "name": "stdout"
        }
      ]
    }
  ]
}