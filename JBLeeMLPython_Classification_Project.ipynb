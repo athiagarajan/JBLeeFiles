{
  "nbformat": 4,
  "nbformat_minor": 0,
  "metadata": {
    "colab": {
      "name": "JBLeeMLPython_Classification_Project.ipynb",
      "provenance": [],
      "toc_visible": true,
      "authorship_tag": "ABX9TyOWyznk8mq6VoFgoXJDlTin",
      "include_colab_link": true
    },
    "kernelspec": {
      "name": "python3",
      "display_name": "Python 3"
    }
  },
  "cells": [
    {
      "cell_type": "markdown",
      "metadata": {
        "id": "view-in-github",
        "colab_type": "text"
      },
      "source": [
        "<a href=\"https://colab.research.google.com/github/athiagarajan/JBLeeFiles/blob/master/JBLeeMLPython_Classification_Project.ipynb\" target=\"_parent\"><img src=\"https://colab.research.google.com/assets/colab-badge.svg\" alt=\"Open In Colab\"/></a>"
      ]
    },
    {
      "cell_type": "markdown",
      "metadata": {
        "id": "ZrdLQ6XqUJOD",
        "colab_type": "text"
      },
      "source": [
        "# **Machine Learning - Classification Project**"
      ]
    },
    {
      "cell_type": "markdown",
      "metadata": {
        "id": "OCnVhQv9PF9r",
        "colab_type": "text"
      },
      "source": [
        "## Python Project Template\n",
        "## 1. Prepare Problem\n",
        "## a) Load libraries\n",
        "## b) Load dataset\n",
        "## 2. Summarize Data\n",
        "## a) Descriptive statistics\n",
        "## b) Data visualizations\n",
        "## 3. Prepare Data\n",
        "## a) Data Cleaning\n",
        "## b) Feature Selection\n",
        "## c) Data Transforms\n",
        "## 4. Evaluate Algorithms\n",
        "## a) Split-out validation dataset\n",
        "## b) Test options and evaluation metric\n",
        "## c) Spot Check Algorithms\n",
        "## d) Compare Algorithms\n",
        "## 5. Improve Accuracy\n",
        "## a) Algorithm Tuning\n",
        "## b) Ensembles\n",
        "## 6. Finalize Model\n",
        "## a) Predictions on validation dataset\n",
        "## b) Create standalone model on entire training dataset\n",
        "## c) Save model for later use"
      ]
    },
    {
      "cell_type": "code",
      "metadata": {
        "id": "VDIQgLy-P6F7",
        "colab_type": "code",
        "colab": {}
      },
      "source": [
        "# Load libraries\n",
        "from pandas import read_csv\n",
        "from pandas.plotting import scatter_matrix\n",
        "from matplotlib import pyplot\n",
        "from sklearn.model_selection import train_test_split\n",
        "from sklearn.model_selection import KFold\n",
        "from sklearn.model_selection import cross_val_score\n",
        "from sklearn.metrics import classification_report\n",
        "from sklearn.metrics import confusion_matrix\n",
        "from sklearn.metrics import accuracy_score\n",
        "from sklearn.linear_model import LogisticRegression\n",
        "from sklearn.tree import DecisionTreeClassifier\n",
        "from sklearn.neighbors import KNeighborsClassifier\n",
        "from sklearn.discriminant_analysis import LinearDiscriminantAnalysis\n",
        "from sklearn.naive_bayes import GaussianNB\n",
        "from sklearn.svm import SVC\n",
        "\n",
        "# Load dataset\n",
        "filename = 'iris.data.csv'\n",
        "names = ['sepal-length', 'sepal-width', 'petal-length', 'petal-width', 'class']\n",
        "dataset = read_csv(filename, names=names)\n",
        "\n",
        "# shape\n",
        "print(dataset.shape)\n",
        "print()\n",
        "\n",
        "# head\n",
        "print(dataset.head(20))\n",
        "print()\n",
        "\n",
        "# descriptions\n",
        "print(dataset.describe())\n",
        "print()\n",
        "\n",
        "# class distribution\n",
        "print(dataset.groupby('class').size())\n",
        "print()\n",
        "\n",
        "# Data Visualization\n",
        "print('Univariate Plots')\n",
        "# box and whisker plots\n",
        "dataset.plot(kind='box', subplots=True, layout=(2,2), sharex=False, sharey=False)\n",
        "pyplot.show()\n",
        "print()\n",
        "\n",
        "# histograms\n",
        "dataset.hist()\n",
        "pyplot.show()\n",
        "print()\n",
        "\n",
        "print('Multivariate Plots')\n",
        "# scatter plot matrix\n",
        "scatter_matrix(dataset)\n",
        "pyplot.show()\n"
      ],
      "execution_count": 0,
      "outputs": []
    },
    {
      "cell_type": "code",
      "metadata": {
        "id": "Sy1nz9-ZSjWb",
        "colab_type": "code",
        "colab": {}
      },
      "source": [
        "# Split-out validation dataset\n",
        "array = dataset.values\n",
        "X = array[:,0:4]\n",
        "Y = array[:,4]\n",
        "validation_size = 0.20\n",
        "seed = 7\n",
        "X_train, X_validation, Y_train, Y_validation = train_test_split(X, Y,\n",
        "test_size=validation_size, random_state=seed)"
      ],
      "execution_count": 0,
      "outputs": []
    },
    {
      "cell_type": "code",
      "metadata": {
        "id": "A-_njkSoPIuH",
        "colab_type": "code",
        "colab": {
          "base_uri": "https://localhost:8080/",
          "height": 119
        },
        "outputId": "2317497d-4501-4b25-91a9-4c774a2c11f2"
      },
      "source": [
        "# Spot-Check Algorithms\n",
        "models = []\n",
        "models.append(('LR', LogisticRegression(solver='liblinear')))\n",
        "models.append(('LDA', LinearDiscriminantAnalysis()))\n",
        "models.append(('KNN', KNeighborsClassifier()))\n",
        "models.append(('CART', DecisionTreeClassifier()))\n",
        "models.append(('NB', GaussianNB()))\n",
        "models.append(('SVM', SVC()))\n",
        "# evaluate each model in turn\n",
        "results = []\n",
        "names = []\n",
        "for name, model in models:\n",
        "  kfold = KFold(n_splits=10, random_state=seed,shuffle=True)\n",
        "  cv_results = cross_val_score(model, X_train, Y_train, cv=kfold, scoring='accuracy')\n",
        "  results.append(cv_results)\n",
        "  names.append(name)\n",
        "  msg = \"%s: %f (%f)\" % (name, cv_results.mean(), cv_results.std())\n",
        "  print(msg)"
      ],
      "execution_count": 14,
      "outputs": [
        {
          "output_type": "stream",
          "text": [
            "LR: 0.958333 (0.055902)\n",
            "LDA: 0.975000 (0.038188)\n",
            "KNN: 0.983333 (0.033333)\n",
            "CART: 0.958333 (0.076830)\n",
            "NB: 0.966667 (0.040825)\n",
            "SVM: 0.983333 (0.033333)\n"
          ],
          "name": "stdout"
        }
      ]
    },
    {
      "cell_type": "code",
      "metadata": {
        "id": "iE9vsWNuTDvC",
        "colab_type": "code",
        "colab": {
          "base_uri": "https://localhost:8080/",
          "height": 294
        },
        "outputId": "d75a09ba-b690-49bf-adb9-649438c3cd93"
      },
      "source": [
        "# Compare Algorithms\n",
        "fig = pyplot.figure()\n",
        "fig.suptitle('Algorithm Comparison')\n",
        "ax = fig.add_subplot(111)\n",
        "pyplot.boxplot(results)\n",
        "ax.set_xticklabels(names)\n",
        "pyplot.show()"
      ],
      "execution_count": 15,
      "outputs": [
        {
          "output_type": "display_data",
          "data": {
            "image/png": "[encoded data removed]",
            "text/plain": [
              "<Figure size 432x288 with 1 Axes>"
            ]
          },
          "metadata": {
            "tags": [],
            "needs_background": "light"
          }
        }
      ]
    },
    {
      "cell_type": "code",
      "metadata": {
        "id": "-ngrI52dTl6L",
        "colab_type": "code",
        "colab": {
          "base_uri": "https://localhost:8080/",
          "height": 255
        },
        "outputId": "58731d38-722f-40a6-db4f-cc0fc068df31"
      },
      "source": [
        "# Make predictions on validation dataset\n",
        "knn = KNeighborsClassifier()\n",
        "knn.fit(X_train, Y_train)\n",
        "predictions = knn.predict(X_validation)\n",
        "print(accuracy_score(Y_validation, predictions))\n",
        "print(confusion_matrix(Y_validation, predictions))\n",
        "print(classification_report(Y_validation, predictions))"
      ],
      "execution_count": 13,
      "outputs": [
        {
          "output_type": "stream",
          "text": [
            "0.9\n",
            "[[ 7  0  0]\n",
            " [ 0 11  1]\n",
            " [ 0  2  9]]\n",
            "                 precision    recall  f1-score   support\n",
            "\n",
            "    Iris-setosa       1.00      1.00      1.00         7\n",
            "Iris-versicolor       0.85      0.92      0.88        12\n",
            " Iris-virginica       0.90      0.82      0.86        11\n",
            "\n",
            "       accuracy                           0.90        30\n",
            "      macro avg       0.92      0.91      0.91        30\n",
            "   weighted avg       0.90      0.90      0.90        30\n",
            "\n"
          ],
          "name": "stdout"
        }
      ]
    }
  ]
}