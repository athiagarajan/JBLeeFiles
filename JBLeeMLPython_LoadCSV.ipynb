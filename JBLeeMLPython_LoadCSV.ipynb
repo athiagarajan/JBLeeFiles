{
  "nbformat": 4,
  "nbformat_minor": 0,
  "metadata": {
    "colab": {
      "name": "JBLeeMLPython_LoadCSV.ipynb",
      "version": "0.3.2",
      "provenance": [],
      "include_colab_link": true
    },
    "kernelspec": {
      "name": "python3",
      "display_name": "Python 3"
    }
  },
  "cells": [
    {
      "cell_type": "markdown",
      "metadata": {
        "id": "view-in-github",
        "colab_type": "text"
      },
      "source": [
        "<a href=\"https://colab.research.google.com/github/athiagarajan/JBLeeFiles/blob/master/JBLeeMLPython_LoadCSV.ipynb\" target=\"_parent\"><img src=\"https://colab.research.google.com/assets/colab-badge.svg\" alt=\"Open In Colab\"/></a>"
      ]
    },
    {
      "metadata": {
        "id": "mpxZ0HDJgmTm",
        "colab_type": "text"
      },
      "cell_type": "markdown",
      "source": [
        "# **Loading CSV Data**"
      ]
    },
    {
      "metadata": {
        "id": "QVtX_0nEBkpP",
        "colab_type": "code",
        "colab": {
          "base_uri": "https://localhost:8080/",
          "height": 34
        },
        "outputId": "118b79b5-cc5d-4b54-e923-e9077bd391ee"
      },
      "cell_type": "code",
      "source": [
        "# Load CSV Using Python Standard Library\n",
        "import csv\n",
        "import numpy\n",
        "filename = 'pima-indians-diabetes.csv'\n",
        "raw_data = open(filename, 'rt')\n",
        "reader = csv.reader(raw_data, delimiter=',', quoting=csv.QUOTE_NONE)\n",
        "x = list(reader)\n",
        "data = numpy.array(x).astype('float')\n",
        "print(data.shape)"
      ],
      "execution_count": 12,
      "outputs": [
        {
          "output_type": "stream",
          "text": [
            "(768, 9)\n"
          ],
          "name": "stdout"
        }
      ]
    },
    {
      "metadata": {
        "id": "6HJOPslFGpIR",
        "colab_type": "code",
        "colab": {
          "base_uri": "https://localhost:8080/",
          "height": 34
        },
        "outputId": "59491d6b-7658-47f9-9abd-e614a7e4c33a"
      },
      "cell_type": "code",
      "source": [
        "# Load CSV using NumPy\n",
        "from numpy import loadtxt\n",
        "filename = 'pima-indians-diabetes.csv'\n",
        "raw_data = open(filename, 'rb')\n",
        "data = loadtxt(raw_data, delimiter=\",\")\n",
        "print(data.shape)"
      ],
      "execution_count": 10,
      "outputs": [
        {
          "output_type": "stream",
          "text": [
            "(768, 9)\n"
          ],
          "name": "stdout"
        }
      ]
    },
    {
      "metadata": {
        "id": "3z8li3uuG--A",
        "colab_type": "code",
        "colab": {}
      },
      "cell_type": "code",
      "source": [
        "# Load CSV from URL using NumPy\n",
        "#!pip install urllib\n",
        "from numpy import loadtxt\n",
        "import urllib \n",
        "url = 'https://data.world/data-society/pima-indians-diabetes-database/file/diabetes.csv'\n",
        "raw_data = urllib.request.urlopen(url)\n",
        "dataset = loadtxt(raw_data, delimiter=\",\")\n",
        "print(dataset.shape)"
      ],
      "execution_count": 0,
      "outputs": []
    },
    {
      "metadata": {
        "id": "CefzzFPHfo-q",
        "colab_type": "code",
        "colab": {
          "base_uri": "https://localhost:8080/",
          "height": 34
        },
        "outputId": "6659da0c-cfb7-437f-b2ad-b1b5208047ad"
      },
      "cell_type": "code",
      "source": [
        "# Load CSV using Pandas\n",
        "from pandas import read_csv\n",
        "filename = 'pima-indians-diabetes.csv'\n",
        "names = ['preg', 'plas', 'pres', 'skin', 'test', 'mass', 'pedi', 'age', 'class']\n",
        "data = read_csv(filename, names=names)\n",
        "print(data.shape)"
      ],
      "execution_count": 25,
      "outputs": [
        {
          "output_type": "stream",
          "text": [
            "(768, 9)\n"
          ],
          "name": "stdout"
        }
      ]
    },
    {
      "metadata": {
        "id": "NX1lGawTf4m7",
        "colab_type": "code",
        "colab": {}
      },
      "cell_type": "code",
      "source": [
        "# Load CSV using Pandas from URL\n",
        "from pandas import read_csv\n",
        "url = 'https://goo.gl/vhm1eU'\n",
        "names = ['preg', 'plas', 'pres', 'skin', 'test', 'mass', 'pedi', 'age', 'class']\n",
        "data = read_csv(url, names=names)\n",
        "print(data.shape)"
      ],
      "execution_count": 0,
      "outputs": []
    }
  ]
}