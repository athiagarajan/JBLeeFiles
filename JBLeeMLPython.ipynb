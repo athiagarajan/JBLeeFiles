{
  "nbformat": 4,
  "nbformat_minor": 0,
  "metadata": {
    "colab": {
      "name": "JBLeeMLPython.ipynb",
      "version": "0.3.2",
      "provenance": [],
      "include_colab_link": true
    },
    "kernelspec": {
      "name": "python3",
      "display_name": "Python 3"
    }
  },
  "cells": [
    {
      "cell_type": "markdown",
      "metadata": {
        "id": "view-in-github",
        "colab_type": "text"
      },
      "source": [
        "<a href=\"https://colab.research.google.com/github/athiagarajan/JBLeeFiles/blob/master/JBLeeMLPython.ipynb\" target=\"_parent\"><img src=\"https://colab.research.google.com/assets/colab-badge.svg\" alt=\"Open In Colab\"/></a>"
      ]
    },
    {
      "metadata": {
        "id": "JkIzwddo8-dn",
        "colab_type": "text"
      },
      "cell_type": "markdown",
      "source": [
        "Python Crash Course"
      ]
    },
    {
      "metadata": {
        "id": "fjScBpqH1Z6v",
        "colab_type": "code",
        "colab": {
          "base_uri": "https://localhost:8080/",
          "height": 102
        },
        "outputId": "e4c61cd2-30d5-43c8-8653-0674425ac640"
      },
      "cell_type": "code",
      "source": [
        "# scipy\n",
        "import scipy\n",
        "print('scipy: {}'.format(scipy.__version__))\n",
        "# numpy\n",
        "import numpy\n",
        "print('numpy: {}'.format(numpy.__version__))\n",
        "# matplotlib\n",
        "import matplotlib\n",
        "print('matplotlib: {}'.format(matplotlib.__version__))\n",
        "# pandas\n",
        "import pandas\n",
        "print('pandas: {}'.format(pandas.__version__))\n",
        "# scikit-learn\n",
        "import sklearn\n",
        "print('sklearn: {}'.format(sklearn.__version__))"
      ],
      "execution_count": 3,
      "outputs": [
        {
          "output_type": "stream",
          "text": [
            "scipy: 1.2.1\n",
            "numpy: 1.16.3\n",
            "matplotlib: 3.0.3\n",
            "pandas: 0.24.2\n",
            "sklearn: 0.20.3\n"
          ],
          "name": "stdout"
        }
      ]
    },
    {
      "metadata": {
        "id": "ZJjw8KOO4uWe",
        "colab_type": "code",
        "colab": {
          "base_uri": "https://localhost:8080/",
          "height": 153
        },
        "outputId": "cfba6367-70eb-4dae-aa35-7cbe8d474257"
      },
      "cell_type": "code",
      "source": [
        "# Strings\n",
        "data = 'hello world'\n",
        "print(data[0])\n",
        "print(len(data))\n",
        "print(data)\n",
        "\n",
        "# Numbers\n",
        "value = 123.1\n",
        "print(value)\n",
        "value = 10\n",
        "print(value)\n",
        "\n",
        "# Boolean\n",
        "a = True\n",
        "b = False\n",
        "print(a, b)\n",
        "\n",
        "# Multiple Assignment\n",
        "a, b, c = 1, 2, 3\n",
        "print(a, b, c)\n",
        "\n",
        "# No value\n",
        "a = None\n",
        "print(a)"
      ],
      "execution_count": 8,
      "outputs": [
        {
          "output_type": "stream",
          "text": [
            "h\n",
            "11\n",
            "hello world\n",
            "123.1\n",
            "10\n",
            "True False\n",
            "1 2 3\n",
            "None\n"
          ],
          "name": "stdout"
        }
      ]
    },
    {
      "metadata": {
        "id": "lPz8j2iL5RQm",
        "colab_type": "code",
        "colab": {}
      },
      "cell_type": "code",
      "source": [
        "#If-Then-Else conditional\n",
        "value = 298\n",
        "if value == 99:\n",
        "  print('That is fast')\n",
        "elif value > 200:\n",
        "  print('That is too fast')\n",
        "else:\n",
        "  print('That is safe')\n",
        "  \n",
        "# For-Loop\n",
        "for i in range(10):\n",
        "  print(i)\n",
        "  \n",
        "# While-Loop\n",
        "i = 0\n",
        "while i < 10:\n",
        "  print(i)\n",
        "  i += 1"
      ],
      "execution_count": 0,
      "outputs": []
    },
    {
      "metadata": {
        "id": "4JAmu9Sw6K6X",
        "colab_type": "code",
        "colab": {
          "base_uri": "https://localhost:8080/",
          "height": 255
        },
        "outputId": "8c8bd50c-8f9f-4f2a-d771-4e9dfbb9b1eb"
      },
      "cell_type": "code",
      "source": [
        "#Tuple\n",
        "a = (1, 2, 3)\n",
        "print(a)\n",
        "\n",
        "#List\n",
        "mylist = [1, 2, 3]\n",
        "print(\"Zeroth Value: %d\", mylist[0])\n",
        "mylist.append(4)\n",
        "print(\"List Length: %d\", len(mylist))\n",
        "for value in mylist:\n",
        "  print (value)\n",
        "  \n",
        "mydict = {'a': 1, 'b': 2, 'c': 3}\n",
        "print(\"A value: %d\",mydict['a'])\n",
        "mydict['a'] = 11\n",
        "print(\"A value: %d\",mydict['a'])\n",
        "print(\"Keys: %s\",mydict.keys())\n",
        "print(\"Values: %s\", mydict.values())\n",
        "for key in mydict.keys():\n",
        "  print(mydict[key])"
      ],
      "execution_count": 22,
      "outputs": [
        {
          "output_type": "stream",
          "text": [
            "(1, 2, 3)\n",
            "Zeroth Value: %d 1\n",
            "List Length: %d 4\n",
            "1\n",
            "2\n",
            "3\n",
            "4\n",
            "A value: %d 1\n",
            "A value: %d 11\n",
            "Keys: %s dict_keys(['a', 'b', 'c'])\n",
            "Values: %s dict_values([11, 2, 3])\n",
            "11\n",
            "2\n",
            "3\n"
          ],
          "name": "stdout"
        }
      ]
    },
    {
      "metadata": {
        "id": "0lUdMPZb8FzX",
        "colab_type": "code",
        "colab": {
          "base_uri": "https://localhost:8080/",
          "height": 34
        },
        "outputId": "ad3b3a05-0b2b-4115-b8d8-ba6e99c2b809"
      },
      "cell_type": "code",
      "source": [
        "# Sum function\n",
        "def mysum(x, y):\n",
        "  return x + y\n",
        "# Test sum function\n",
        "result = mysum(1, 3)\n",
        "print(result)"
      ],
      "execution_count": 23,
      "outputs": [
        {
          "output_type": "stream",
          "text": [
            "4\n"
          ],
          "name": "stdout"
        }
      ]
    },
    {
      "metadata": {
        "id": "CcfpZBUe9EEG",
        "colab_type": "text"
      },
      "cell_type": "markdown",
      "source": [
        "**NumPy Crash Course**"
      ]
    },
    {
      "metadata": {
        "id": "KXh2vRQe9ZwO",
        "colab_type": "code",
        "colab": {
          "base_uri": "https://localhost:8080/",
          "height": 68
        },
        "outputId": "e5dfa50a-5428-410c-c2ba-3f1419557590"
      },
      "cell_type": "code",
      "source": [
        "# define an array\n",
        "import numpy\n",
        "mylist = [1, 2, 3]\n",
        "print(\"numpy list - \",mylist)\n",
        "myarray = numpy.array(mylist)\n",
        "print(\"numpy array - \",myarray)\n",
        "print(myarray.shape)"
      ],
      "execution_count": 26,
      "outputs": [
        {
          "output_type": "stream",
          "text": [
            "numpy list -  [1, 2, 3]\n",
            "numpy array -  [1 2 3]\n",
            "(3,)\n"
          ],
          "name": "stdout"
        }
      ]
    },
    {
      "metadata": {
        "id": "O8HvDpZz9-o3",
        "colab_type": "code",
        "colab": {
          "base_uri": "https://localhost:8080/",
          "height": 136
        },
        "outputId": "a2403e09-394a-463f-bd49-2c77859a041e"
      },
      "cell_type": "code",
      "source": [
        "# access values\n",
        "import numpy\n",
        "mylist = [[1, 2, 3], [3, 4, 5]]\n",
        "myarray = numpy.array(mylist)\n",
        "print(myarray)\n",
        "print(myarray.shape)\n",
        "print(\"First row: \", myarray[0])\n",
        "print(\"Last row: \", myarray[-1])\n",
        "print(\"Specific row and col: \", myarray[0, 2])\n",
        "print(\"Whole col: \", myarray[:, 2])"
      ],
      "execution_count": 28,
      "outputs": [
        {
          "output_type": "stream",
          "text": [
            "[[1 2 3]\n",
            " [3 4 5]]\n",
            "(2, 3)\n",
            "First row:  [1 2 3]\n",
            "Last row:  [3 4 5]\n",
            "Specific row and col:  3\n",
            "Whole col:  [3 5]\n"
          ],
          "name": "stdout"
        }
      ]
    },
    {
      "metadata": {
        "id": "0cf34kiz-qN1",
        "colab_type": "code",
        "colab": {
          "base_uri": "https://localhost:8080/",
          "height": 51
        },
        "outputId": "e0b48939-b17e-46da-dfad-ecbc7714b46a"
      },
      "cell_type": "code",
      "source": [
        "# arithmetic\n",
        "import numpy\n",
        "myarray1 = numpy.array([2, 2, 2])\n",
        "myarray2 = numpy.array([3, 3, 3])\n",
        "print(\"Addition: \", (myarray1 + myarray2))\n",
        "print(\"Multiplication: \", (myarray1 * myarray2))"
      ],
      "execution_count": 31,
      "outputs": [
        {
          "output_type": "stream",
          "text": [
            "Addition:  [5 5 5]\n",
            "Multiplication:  [6 6 6]\n"
          ],
          "name": "stdout"
        }
      ]
    },
    {
      "metadata": {
        "id": "EUlU9ov6-6P1",
        "colab_type": "text"
      },
      "cell_type": "markdown",
      "source": [
        "**Matplotlib Crash Course**"
      ]
    },
    {
      "metadata": {
        "id": "xFXi15Yf-_e2",
        "colab_type": "code",
        "colab": {
          "base_uri": "https://localhost:8080/",
          "height": 283
        },
        "outputId": "c2a33a87-87ea-4a8f-b984-14d443b493d5"
      },
      "cell_type": "code",
      "source": [
        "# basic line plot\n",
        "import matplotlib.pyplot as plt\n",
        "import numpy\n",
        "myarray = numpy.array([1, 2, 3])\n",
        "plt.plot(myarray)\n",
        "plt.xlabel('some x axis')\n",
        "plt.ylabel('some y axis')\n",
        "plt.show()"
      ],
      "execution_count": 32,
      "outputs": [
        {
          "output_type": "display_data",
          "data": {
            "image/png": "[encoded data removed]",
            "text/plain": [
              "<Figure size 432x288 with 1 Axes>"
            ]
          },
          "metadata": {
            "tags": []
          }
        }
      ]
    },
    {
      "metadata": {
        "id": "Ih-ItnOW_vVW",
        "colab_type": "code",
        "colab": {
          "base_uri": "https://localhost:8080/",
          "height": 283
        },
        "outputId": "00f58d4e-f195-4b1e-92d8-b07b9f8474f6"
      },
      "cell_type": "code",
      "source": [
        "# basic scatter plot\n",
        "import matplotlib.pyplot as plt\n",
        "import numpy\n",
        "x = numpy.array([1, 2, 3])\n",
        "y = numpy.array([2, 4, 6])\n",
        "plt.scatter(x,y)\n",
        "plt.xlabel('some x axis')\n",
        "plt.ylabel('some y axis')\n",
        "plt.show()"
      ],
      "execution_count": 33,
      "outputs": [
        {
          "output_type": "display_data",
          "data": {
            "image/png": "[encoded data removed]",
            "text/plain": [
              "<Figure size 432x288 with 1 Axes>"
            ]
          },
          "metadata": {
            "tags": []
          }
        }
      ]
    },
    {
      "metadata": {
        "id": "phbpLvmmASjF",
        "colab_type": "text"
      },
      "cell_type": "markdown",
      "source": [
        "**Pandas Crash Course**"
      ]
    },
    {
      "metadata": {
        "id": "bJ3yxWvHAXZ2",
        "colab_type": "code",
        "colab": {
          "base_uri": "https://localhost:8080/",
          "height": 136
        },
        "outputId": "bd62ab2f-1631-4b47-93c1-d230f8dc0e7b"
      },
      "cell_type": "code",
      "source": [
        "# series\n",
        "import numpy\n",
        "import pandas\n",
        "myarray = numpy.array([1, 2, 3])\n",
        "rownames = ['a', 'b', 'c']\n",
        "myseries = pandas.Series(myarray, index=rownames)\n",
        "print(myseries)\n",
        "print(\"\")\n",
        "print(myseries[0])\n",
        "print(myseries['a'])"
      ],
      "execution_count": 35,
      "outputs": [
        {
          "output_type": "stream",
          "text": [
            "a    1\n",
            "b    2\n",
            "c    3\n",
            "dtype: int64\n",
            "\n",
            "1\n",
            "1\n"
          ],
          "name": "stdout"
        }
      ]
    },
    {
      "metadata": {
        "id": "PCs68hV4BCHf",
        "colab_type": "code",
        "colab": {
          "base_uri": "https://localhost:8080/",
          "height": 255
        },
        "outputId": "7b32f6da-60ea-4a21-9414-6096c81661be"
      },
      "cell_type": "code",
      "source": [
        "# dataframe\n",
        "# A data frame is a multi-dimensional array where the rows and the columns can be labeled.\n",
        "import numpy\n",
        "import pandas\n",
        "myarray = numpy.array([[1, 2, 3], [4, 5, 6]])\n",
        "rownames = ['a', 'b']\n",
        "colnames = ['one', 'two', 'three']\n",
        "mydataframe = pandas.DataFrame(myarray, index=rownames, columns=colnames)\n",
        "print(mydataframe)\n",
        "print(\"\")\n",
        "\n",
        "#Data can be index using column names.\n",
        "print(\"method 1:\")\n",
        "print(\"one column: \\n\",mydataframe['one'])\n",
        "print(\"method 2:\")\n",
        "print(\"one column: \\n\",mydataframe.one)"
      ],
      "execution_count": 41,
      "outputs": [
        {
          "output_type": "stream",
          "text": [
            "   one  two  three\n",
            "a    1    2      3\n",
            "b    4    5      6\n",
            "\n",
            "method 1:\n",
            "one column: \n",
            " a    1\n",
            "b    4\n",
            "Name: one, dtype: int64\n",
            "method 2:\n",
            "one column: \n",
            " a    1\n",
            "b    4\n",
            "Name: one, dtype: int64\n"
          ],
          "name": "stdout"
        }
      ]
    }
  ]
}